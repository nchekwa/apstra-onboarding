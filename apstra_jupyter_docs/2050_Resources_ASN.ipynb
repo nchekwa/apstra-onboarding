{
 "cells": [
  {
   "attachments": {},
   "cell_type": "markdown",
   "metadata": {},
   "source": [
    "# Apstra 4.1.x API Tuturial"
   ]
  },
  {
   "attachments": {},
   "cell_type": "markdown",
   "metadata": {},
   "source": [
    "## 2050 - Resources ASN\n",
    "\n",
    "* <a href=\"#sectionLIBS\">Load libs</a><br>\n",
    "* <a href=\"#sectionLOGIN\">Login to Apstra</a><br>\n",
    "\n",
    "* <a href=\"#sectionA\">A: Create and delete ASN Pool</a><br>\n",
    "* <a href=\"#sectionB\">B: Get All</a><br>\n",
    "* <a href=\"#sectionC\">C: Get single element</a><br>"
   ]
  },
  {
   "attachments": {},
   "cell_type": "markdown",
   "metadata": {},
   "source": [
    "### <a id=\"sectionLIBS\">Load Libs</a>"
   ]
  },
  {
   "cell_type": "code",
   "execution_count": 1,
   "metadata": {},
   "outputs": [],
   "source": [
    "# Jupyter Internal Parameters\n",
    "%reload_ext autoreload\n",
    "%autoreload 2\n",
    "\n",
    "# Fix path for library\n",
    "import os, sys, pathlib\n",
    "sys.path.insert(0, str(pathlib.Path(os.path.dirname(os.path.abspath(\"__file__\"))).parent.resolve()))\n",
    "\n",
    "# ######################################################################################\n",
    "from pprint import pprint\n",
    "from apstra import Apstra"
   ]
  },
  {
   "attachments": {},
   "cell_type": "markdown",
   "metadata": {},
   "source": [
    "### <a id=\"sectionLOGIN\">Load to Apstra</a>"
   ]
  },
  {
   "cell_type": "code",
   "execution_count": 2,
   "metadata": {},
   "outputs": [
    {
     "data": {
      "text/plain": [
       "ActiveBlueprint(id='5558baca-3c49-4be9-8de9-581bc89cf794', label='vEX Left', controller='ApstraLAB')"
      ]
     },
     "execution_count": 2,
     "metadata": {},
     "output_type": "execute_result"
    }
   ],
   "source": [
    "lab = {'name': 'ApstraLAB', 'host': '10.10.10.8', 'username': 'admin', 'password': 'admin' }\n",
    "\n",
    "apstra = Apstra()\n",
    "apstra.client.add_aos_controller(**lab)\n",
    "apstra.client.connect('ApstraLAB')\n",
    "apstra.client.change_blueprint(\"vEX Left\")"
   ]
  },
  {
   "attachments": {},
   "cell_type": "markdown",
   "metadata": {},
   "source": [
    "### <a id=\"sectionA\">A: Create and delete ASN Pool</a>"
   ]
  },
  {
   "cell_type": "code",
   "execution_count": 9,
   "metadata": {},
   "outputs": [
    {
     "name": "stdout",
     "output_type": "stream",
     "text": [
      "None\n",
      "# Create reponse:\n",
      "ID(id='f65be8db-d5c8-4f17-d509-0f0b58c18504')\n",
      "\n",
      "\n",
      "# Delete reponse:\n",
      "HttpStatus(status_code=202, description='Accepted')\n"
     ]
    }
   ],
   "source": [
    "name = \"ASN_Pool_Example\"\n",
    "pools = [\"8-10\", \"22 to 33\", \"30 - 45\"]\n",
    "\n",
    "# Just cleanup before create new one\n",
    "try:\n",
    "    apstra.resources.asn_pools.delete(name)\n",
    "except:\n",
    "    pass\n",
    "\n",
    "response = apstra.resources.asn_pools.create(name, pools)\n",
    "print(\"# Create reponse:\")\n",
    "pprint(response)\n",
    "print(\"\\n\")\n",
    "\n",
    "response = apstra.resources.asn_pools.delete(name)\n",
    "print(\"# Delete reponse:\")\n",
    "pprint(response)\n"
   ]
  },
  {
   "attachments": {},
   "cell_type": "markdown",
   "metadata": {},
   "source": [
    "### <a id=\"sectionB\">B: Get All</a>"
   ]
  },
  {
   "cell_type": "code",
   "execution_count": 4,
   "metadata": {},
   "outputs": [
    {
     "data": {
      "text/plain": [
       "[AsnPool(status='in_use', used='4', display_name='Collaps ASN', tags=[], created_at='2023-03-31T15:25:20.233288Z', last_modified_at='2023-03-31T15:25:20.233288Z', ranges=[PoolRange(status='pool_element_in_use', used='4', last=4040404099, used_percentage=4.0, total='100', first=4040404000)], used_percentage=4.0, total='100', id='3e19eb43-865e-4fe5-b4ea-238c0a466443'),\n",
       " AsnPool(status='in_use', used='8', display_name='DC1-Leafs', tags=['DC1'], created_at='2022-01-21T22:17:11.569185Z', last_modified_at='2022-01-21T22:17:11.569185Z', ranges=[PoolRange(status='pool_element_in_use', used='8', last=4200019999, used_percentage=0.0802407221664995, total='9970', first=4200010030)], used_percentage=0.0802407221664995, total='9970', id='asn_dc1_leafs'),\n",
       " AsnPool(status='not_in_use', used='0', display_name='Private-64512-65534', tags=['default'], created_at='2021-12-10T01:39:13.715593Z', last_modified_at='2021-12-10T01:39:13.715593Z', ranges=[PoolRange(status='pool_element_available', used='0', last=65534, used_percentage=0.0, total='1023', first=64512)], used_percentage=0.0, total='1023', id='Private-64512-65534'),\n",
       " AsnPool(status='not_in_use', used='0', display_name='DEMO1-ASN-pools', tags=[], created_at='2023-04-14T00:44:31.370131Z', last_modified_at='2023-04-14T00:44:31.370131Z', ranges=[PoolRange(status='pool_element_available', used='0', last=88, used_percentage=0.0, total='45', first=44), PoolRange(status='pool_element_available', used='0', last=5097, used_percentage=0.0, total='1002', first=4096), PoolRange(status='pool_element_available', used='0', last=10010, used_percentage=0.0, total='11', first=10000)], used_percentage=0.0, total='1058', id='a2e943d6-14a9-fb84-1b7d-d1c1d4402a1f'),\n",
       " AsnPool(status='in_use', used='2', display_name='vMX Freeform', tags=[], created_at='2023-03-31T23:27:20.446346Z', last_modified_at='2023-03-31T23:27:20.446346Z', ranges=[PoolRange(status='pool_element_in_use', used='2', last=4040404099, used_percentage=22.22222222222222, total='9', first=4040404091)], used_percentage=22.22222222222222, total='9', id='9aad53a5-6ed2-483a-9d61-3c83863d7a51'),\n",
       " AsnPool(status='not_in_use', used='0', display_name='DC1-Externals', tags=['DC1'], created_at='2022-01-21T22:17:11.616575Z', last_modified_at='2022-01-21T22:17:11.616575Z', ranges=[PoolRange(status='pool_element_available', used='0', last=65099, used_percentage=0.0, total='100', first=65000)], used_percentage=0.0, total='100', id='asn_dc1_externals'),\n",
       " AsnPool(status='not_in_use', used='0', display_name='Private-4200000000-4294967294', tags=['default'], created_at='2021-12-10T01:39:13.715350Z', last_modified_at='2021-12-10T01:39:13.715350Z', ranges=[PoolRange(status='pool_element_available', used='0', last=4294967294, used_percentage=0.0, total='94967295', first=4200000000)], used_percentage=0.0, total='94967295', id='Private-4200000000-4294967294'),\n",
       " AsnPool(status='not_in_use', used='0', display_name='DEMO1-VNI-pools', tags=[], created_at='2023-04-20T17:45:12.257231Z', last_modified_at='2023-04-20T17:45:12.257231Z', ranges=[PoolRange(status='pool_element_available', used='0', last=88, used_percentage=0.0, total='45', first=44), PoolRange(status='pool_element_available', used='0', last=5097, used_percentage=0.0, total='1002', first=4096), PoolRange(status='pool_element_available', used='0', last=10010, used_percentage=0.0, total='11', first=10000)], used_percentage=0.0, total='1058', id='3379a83d-5fd4-dae4-aeac-04c9b3f4ca63'),\n",
       " AsnPool(status='not_in_use', used='0', display_name='DC1-SuperSpines', tags=['DC1'], created_at='2022-01-21T22:17:11.474622Z', last_modified_at='2022-01-21T22:17:11.474622Z', ranges=[PoolRange(status='pool_element_available', used='0', last=4200010019, used_percentage=0.0, total='10', first=4200010010)], used_percentage=0.0, total='10', id='asn_dc1_superspines'),\n",
       " AsnPool(status='in_use', used='4', display_name='DC1-Spines', tags=['DC1'], created_at='2022-01-21T22:17:11.522128Z', last_modified_at='2022-01-21T22:17:11.522128Z', ranges=[PoolRange(status='pool_element_in_use', used='4', last=4200010029, used_percentage=40.0, total='10', first=4200010020)], used_percentage=40.0, total='10', id='asn_dc1_spines')]"
      ]
     },
     "execution_count": 4,
     "metadata": {},
     "output_type": "execute_result"
    }
   ],
   "source": [
    "apstra.resources.asn_pools.get_all()"
   ]
  },
  {
   "attachments": {},
   "cell_type": "markdown",
   "metadata": {},
   "source": [
    "### <a id=\"sectionC\">C: Get single element</a>"
   ]
  },
  {
   "cell_type": "code",
   "execution_count": 10,
   "metadata": {},
   "outputs": [
    {
     "name": "stdout",
     "output_type": "stream",
     "text": [
      "AsnPool(status='not_in_use',\n",
      "        used='0',\n",
      "        display_name='Private-4200000000-4294967294',\n",
      "        tags=['default'],\n",
      "        created_at='2021-12-10T01:39:13.715350Z',\n",
      "        last_modified_at='2021-12-10T01:39:13.715350Z',\n",
      "        ranges=[PoolRange(status='pool_element_available',\n",
      "                          used='0',\n",
      "                          last=4294967294,\n",
      "                          used_percentage=0.0,\n",
      "                          total='94967295',\n",
      "                          first=4200000000)],\n",
      "        used_percentage=0.0,\n",
      "        total='94967295',\n",
      "        id='Private-4200000000-4294967294')\n"
     ]
    }
   ],
   "source": [
    "# By name (display_name)\n",
    "reponse = apstra.resources.asn_pools.get(\"Private-4200000000-4294967294\")\n",
    "pprint(reponse)"
   ]
  },
  {
   "cell_type": "code",
   "execution_count": 11,
   "metadata": {},
   "outputs": [
    {
     "name": "stdout",
     "output_type": "stream",
     "text": [
      "AsnPool(status='not_in_use',\n",
      "        used='0',\n",
      "        display_name='DEMO1-VNI-pools',\n",
      "        tags=[],\n",
      "        created_at='2023-04-20T17:45:12.257231Z',\n",
      "        last_modified_at='2023-04-20T17:45:12.257231Z',\n",
      "        ranges=[PoolRange(status='pool_element_available',\n",
      "                          used='0',\n",
      "                          last=88,\n",
      "                          used_percentage=0.0,\n",
      "                          total='45',\n",
      "                          first=44),\n",
      "                PoolRange(status='pool_element_available',\n",
      "                          used='0',\n",
      "                          last=5097,\n",
      "                          used_percentage=0.0,\n",
      "                          total='1002',\n",
      "                          first=4096),\n",
      "                PoolRange(status='pool_element_available',\n",
      "                          used='0',\n",
      "                          last=10010,\n",
      "                          used_percentage=0.0,\n",
      "                          total='11',\n",
      "                          first=10000)],\n",
      "        used_percentage=0.0,\n",
      "        total='1058',\n",
      "        id='3379a83d-5fd4-dae4-aeac-04c9b3f4ca63')\n"
     ]
    }
   ],
   "source": [
    "# By id\n",
    "reponse = apstra.resources.asn_pools.get_by_id(\"3379a83d-5fd4-dae4-aeac-04c9b3f4ca63\")\n",
    "pprint(reponse)"
   ]
  }
 ],
 "metadata": {
  "interpreter": {
   "hash": "916dbcbb3f70747c44a77c7bcd40155683ae19c65e1c03b4aa3499c5328201f1"
  },
  "kernelspec": {
   "display_name": "Python 3.8.10 64-bit",
   "language": "python",
   "name": "python3"
  },
  "language_info": {
   "codemirror_mode": {
    "name": "ipython",
    "version": 3
   },
   "file_extension": ".py",
   "mimetype": "text/x-python",
   "name": "python",
   "nbconvert_exporter": "python",
   "pygments_lexer": "ipython3",
   "version": "3.10.6"
  },
  "orig_nbformat": 4
 },
 "nbformat": 4,
 "nbformat_minor": 2
}
