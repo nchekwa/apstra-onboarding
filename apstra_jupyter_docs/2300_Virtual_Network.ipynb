{
 "cells": [
  {
   "attachments": {},
   "cell_type": "markdown",
   "metadata": {},
   "source": [
    "# Apstra 4.1.x API Tuturial"
   ]
  },
  {
   "attachments": {},
   "cell_type": "markdown",
   "metadata": {},
   "source": [
    "## 2300 - Virtual Network\n",
    "\n",
    "* <a href=\"#sectionLIBS\">Load libs</a><br>\n",
    "* <a href=\"#sectionLOGIN\">Login to Apstra</a><br>\n",
    "\n",
    "* <a href=\"#sectionA\">A: Create Virtual Network based on Objects (DAO)</a><br>\n",
    "* <a href=\"#sectionB\">B: Get All</a><br>\n",
    "* <a href=\"#sectionC\">C: Get elements</a><br>"
   ]
  },
  {
   "attachments": {},
   "cell_type": "markdown",
   "metadata": {},
   "source": [
    "### <a id=\"sectionLIBS\">Load Libs</a>"
   ]
  },
  {
   "cell_type": "code",
   "execution_count": 1,
   "metadata": {},
   "outputs": [],
   "source": [
    "# Jupyter Internal Parameters\n",
    "%reload_ext autoreload\n",
    "%autoreload 2\n",
    "\n",
    "# ######################################################################################\n",
    "# Just for fix path for Jupyter docs\n",
    "import os, sys, pathlib\n",
    "sys.path.insert(0, str(pathlib.Path(os.path.dirname(os.path.abspath(\"__file__\"))).parent.resolve()))\n",
    "# ######################################################################################\n",
    "from pprint import pprint\n",
    "from apstra import Apstra"
   ]
  },
  {
   "attachments": {},
   "cell_type": "markdown",
   "metadata": {},
   "source": [
    "### <a id=\"sectionLOGIN\">Login to Apstra</a>"
   ]
  },
  {
   "cell_type": "code",
   "execution_count": 2,
   "metadata": {},
   "outputs": [
    {
     "data": {
      "text/plain": [
       "ActiveBlueprint(id='5558baca-3c49-4be9-8de9-581bc89cf794', label='vEX Left', controller='ApstraLAB')"
      ]
     },
     "execution_count": 2,
     "metadata": {},
     "output_type": "execute_result"
    }
   ],
   "source": [
    "lab = {'name': 'ApstraLAB', 'host': '10.10.10.8', 'username': 'admin', 'password': 'admin' }\n",
    "\n",
    "apstra = Apstra()\n",
    "apstra.client.add_aos_controller(**lab)\n",
    "apstra.client.connect('ApstraLAB')\n",
    "apstra.client.change_blueprint(\"vEX Left\")"
   ]
  },
  {
   "attachments": {},
   "cell_type": "markdown",
   "metadata": {},
   "source": [
    "### <a id=\"sectionA\">A: Create Virtual Network based on Objects (DAO)</a>"
   ]
  },
  {
   "cell_type": "code",
   "execution_count": 3,
   "metadata": {},
   "outputs": [
    {
     "name": "stdout",
     "output_type": "stream",
     "text": [
      "{'id': 'OfNCMXrcui1vTbqTn3Q'}\n",
      "HttpStatus(status_code=202, description='Accepted')\n"
     ]
    }
   ],
   "source": [
    "from apstra.dao import VirtualNetwork\n",
    "from apstra.dao import BoundTo\n",
    "\n",
    "virtual_network_data = VirtualNetwork(\n",
    "    label='VN300',\n",
    "    routing_zone='COCA-COLA',\n",
    "    vlan_id=300,\n",
    "    vn_id=30000,\n",
    "    ipv4_enabled=True,\n",
    "    ipv4_subnet='192.168.77.0/24',\n",
    "    virtual_gateway_ipv4='192.168.77.1',\n",
    "    bound_to=[\n",
    "        BoundTo(system='Leaf1'),\n",
    "        BoundTo(system='Leaf2')\n",
    "    ]\n",
    ")\n",
    "\n",
    "\n",
    "# You need to check what is list of avalible devices (switches) in blueprint\n",
    "# We need to have information about switches / redundancy groups / access switches\n",
    "apstra.blueprint.get_device_redundancy_group_mapping()\n",
    "\n",
    "#apstra.blueprint.virtual_networks.get_all()\n",
    "\n",
    "try:\n",
    "    apstra.blueprint.virtual_networks.delete(\"VN300\")\n",
    "except:\n",
    "    pass\n",
    "\n",
    "reponse = apstra.blueprint.virtual_networks.create(virtual_network_data)\n",
    "pprint(reponse)\n",
    "\n",
    "reponse = apstra.blueprint.virtual_networks.delete(\"VN300\")\n",
    "pprint(reponse)\n",
    "\n",
    "#reponse = apstra.blueprint.routing_zones.create(routing_zone_data);"
   ]
  },
  {
   "cell_type": "code",
   "execution_count": 4,
   "metadata": {},
   "outputs": [
    {
     "name": "stdout",
     "output_type": "stream",
     "text": [
      "{'id': 'AFKd2f87AM2brTr8BzQ'}\n",
      "HttpStatus(status_code=202, description='Accepted')\n"
     ]
    }
   ],
   "source": [
    "apstra.blueprint.get_device_redundancy_group_mapping()\n",
    "\n",
    "# Example Dict\n",
    "virtual_network_data = {\n",
    "    \"label\": 'VN301',\n",
    "    \"routing_zone\": 'COCA-COLA',\n",
    "    \"vlan_id\": 301,\n",
    "    \"vn_id\": 30001,\n",
    "    \"ipv4_enabled\": True,\n",
    "    \"ipv4_subnet\": '192.168.78.0/24',\n",
    "    \"virtual_gateway_ipv4\":'192.168.78.1',\n",
    "    \"bound_to\": [ {\"system\": 'Leaf1'}, {\"system\": 'Leaf2'}  ]\n",
    "}\n",
    "\n",
    "try:\n",
    "    apstra.blueprint.virtual_networks.delete(\"VN301\")\n",
    "except:\n",
    "    pass\n",
    "\n",
    "reponse = apstra.blueprint.virtual_networks.create(virtual_network_data)\n",
    "pprint(reponse)\n",
    "\n",
    "reponse = apstra.blueprint.virtual_networks.delete(\"VN301\")\n",
    "pprint(reponse)\n",
    "\n",
    "#print('ba')\n",
    "#reponse = apstra.blueprint.virtual_networks.create(virtual_network_data);\n"
   ]
  },
  {
   "attachments": {},
   "cell_type": "markdown",
   "metadata": {},
   "source": [
    "### <a id=\"sectionB\">B: Get All</a>"
   ]
  },
  {
   "cell_type": "code",
   "execution_count": 5,
   "metadata": {},
   "outputs": [
    {
     "name": "stdout",
     "output_type": "stream",
     "text": [
      "[VirtualNetwork(id=H1UnQz1dYcbu1Oe6e5Y, label=COCA-COLA_LAN113, description=, vn_type=vxlan, vn_id=30113, reserved_vlan_id=113, security_zone_id=7e-efvi_Ci8OfmPPxxU, route_target=30113:1, dhcp_service=dhcpServiceDisabled, ipv4_enabled=False, virtual_gateway_ipv4_enabled=False, ipv6_enabled=False, virtual_gateway_ipv6_enabled=False, bound_to=[BoundTo(access_switch_node_ids=[], system_id='WZml4Yc6KFdcFFTYhI0', system=None, vlan_id=113)]),\n",
      " VirtualNetwork(id=231g973Ut7JPbpUpuqg, label=PEPSI_LAN124, description=, vn_type=vxlan, vn_id=30124, reserved_vlan_id=124, security_zone_id=dbMhcIEJxvQVi9474QI, route_target=30124:1, dhcp_service=dhcpServiceDisabled, ipv4_enabled=False, virtual_gateway_ipv4_enabled=False, ipv6_enabled=False, virtual_gateway_ipv6_enabled=False, bound_to=[BoundTo(access_switch_node_ids=[], system_id='WZml4Yc6KFdcFFTYhI0', system=None, vlan_id=124)]),\n",
      " VirtualNetwork(id=N3xMzS0ovWHOgzcfRcI, label=PEPSI_LAN123, description=, vn_type=vxlan, vn_id=30123, reserved_vlan_id=123, security_zone_id=dbMhcIEJxvQVi9474QI, route_target=30123:1, dhcp_service=dhcpServiceDisabled, ipv4_enabled=False, virtual_gateway_ipv4_enabled=False, ipv6_enabled=False, virtual_gateway_ipv6_enabled=False, bound_to=[BoundTo(access_switch_node_ids=[], system_id='WZml4Yc6KFdcFFTYhI0', system=None, vlan_id=123)]),\n",
      " VirtualNetwork(id=OfNCMXrcui1vTbqTn3Q, label=VN300, description=None, vn_type=vxlan, vn_id=30000, reserved_vlan_id=300, security_zone_id=7e-efvi_Ci8OfmPPxxU, route_target=30000:1, dhcp_service=dhcpServiceDisabled, ipv4_enabled=True, ipv4_subnet=192.168.77.0/24, virtual_gateway_ipv4=192.168.77.1, virtual_gateway_ipv4_enabled=True, ipv6_enabled=False, virtual_gateway_ipv6_enabled=False, bound_to=[BoundTo(access_switch_node_ids=[], system_id='WZml4Yc6KFdcFFTYhI0', system=None, vlan_id=300)]),\n",
      " VirtualNetwork(id=mM_ICGGrAZeKRY1v0r8, label=PEPSI_LAN121, description=, vn_type=vxlan, vn_id=30121, reserved_vlan_id=121, security_zone_id=dbMhcIEJxvQVi9474QI, route_target=30121:1, dhcp_service=dhcpServiceDisabled, ipv4_enabled=True, ipv4_subnet=192.168.121.0/24, virtual_gateway_ipv4=192.168.121.1, virtual_gateway_ipv4_enabled=True, ipv6_enabled=False, virtual_gateway_ipv6_enabled=False, bound_to=[BoundTo(access_switch_node_ids=[], system_id='WZml4Yc6KFdcFFTYhI0', system=None, vlan_id=121)]),\n",
      " VirtualNetwork(id=yyMWZMWlgaIPFEfXHjs, label=COCA-COLA_LAN114, description=, vn_type=vxlan, vn_id=30114, reserved_vlan_id=114, security_zone_id=7e-efvi_Ci8OfmPPxxU, route_target=30114:1, dhcp_service=dhcpServiceDisabled, ipv4_enabled=False, virtual_gateway_ipv4_enabled=False, ipv6_enabled=False, virtual_gateway_ipv6_enabled=False, bound_to=[BoundTo(access_switch_node_ids=[], system_id='WZml4Yc6KFdcFFTYhI0', system=None, vlan_id=114)]),\n",
      " VirtualNetwork(id=YUQPlaEjolJDFLBgBoQ, label=PEPSI_LAN125, description=, vn_type=vxlan, vn_id=30125, reserved_vlan_id=125, security_zone_id=dbMhcIEJxvQVi9474QI, route_target=30125:1, dhcp_service=dhcpServiceDisabled, ipv4_enabled=False, virtual_gateway_ipv4_enabled=False, ipv6_enabled=False, virtual_gateway_ipv6_enabled=False, bound_to=[BoundTo(access_switch_node_ids=[], system_id='WZml4Yc6KFdcFFTYhI0', system=None, vlan_id=125), BoundTo(access_switch_node_ids=[], system_id='wwaj4PLX1by2NJRvdeg', system=None, vlan_id=125)]),\n",
      " VirtualNetwork(id=NoO8KwC_xhwWyC0c0zI, label=COCA-COLA_LAN111, description=, vn_type=vxlan, vn_id=30111, reserved_vlan_id=111, security_zone_id=7e-efvi_Ci8OfmPPxxU, route_target=30111:1, dhcp_service=dhcpServiceDisabled, ipv4_enabled=True, ipv4_subnet=192.168.111.0/24, virtual_gateway_ipv4=192.168.111.1, virtual_gateway_ipv4_enabled=True, ipv6_enabled=False, virtual_gateway_ipv6_enabled=False, bound_to=[BoundTo(access_switch_node_ids=[], system_id='WZml4Yc6KFdcFFTYhI0', system=None, vlan_id=111)]),\n",
      " VirtualNetwork(id=iH9LNmMGZ6HigfvcVRw, label=PEPSI_LAN122, description=, vn_type=vxlan, vn_id=30122, security_zone_id=dbMhcIEJxvQVi9474QI, route_target=30122:1, dhcp_service=dhcpServiceDisabled, ipv4_enabled=False, virtual_gateway_ipv4_enabled=False, ipv6_enabled=False, virtual_gateway_ipv6_enabled=False, bound_to=[BoundTo(access_switch_node_ids=[], system_id='WZml4Yc6KFdcFFTYhI0', system=None, vlan_id=122)]),\n",
      " VirtualNetwork(id=_KQ2ZUln34xdIVKc_WQ, label=COCA-COLA_LAN112, description=, vn_type=vxlan, vn_id=30112, security_zone_id=7e-efvi_Ci8OfmPPxxU, route_target=30112:1, dhcp_service=dhcpServiceDisabled, ipv4_enabled=False, virtual_gateway_ipv4_enabled=False, ipv6_enabled=False, virtual_gateway_ipv6_enabled=False, bound_to=[BoundTo(access_switch_node_ids=[], system_id='WZml4Yc6KFdcFFTYhI0', system=None, vlan_id=112)]),\n",
      " VirtualNetwork(id=AFKd2f87AM2brTr8BzQ, label=VN301, description=, vn_type=vxlan, reserved_vlan_id=301, security_zone_id=7e-efvi_Ci8OfmPPxxU, dhcp_service=dhcpServiceDisabled, ipv4_enabled=True, virtual_gateway_ipv4_enabled=True, ipv6_enabled=False, virtual_gateway_ipv6_enabled=False, bound_to=[BoundTo(access_switch_node_ids=[], system_id='WZml4Yc6KFdcFFTYhI0', system=None, vlan_id=301)]),\n",
      " VirtualNetwork(id=RD88bKGcz6ZfLQ2tkRw, label=COCA-COLA_LAN115, description=, vn_type=vxlan, vn_id=30115, reserved_vlan_id=115, security_zone_id=7e-efvi_Ci8OfmPPxxU, route_target=30115:1, dhcp_service=dhcpServiceDisabled, ipv4_enabled=False, virtual_gateway_ipv4_enabled=False, ipv6_enabled=False, virtual_gateway_ipv6_enabled=False, bound_to=[BoundTo(access_switch_node_ids=[], system_id='WZml4Yc6KFdcFFTYhI0', system=None, vlan_id=115), BoundTo(access_switch_node_ids=[], system_id='wwaj4PLX1by2NJRvdeg', system=None, vlan_id=115)])]\n"
     ]
    }
   ],
   "source": [
    "reponse = apstra.blueprint.virtual_networks.get_all()\n",
    "pprint(reponse)"
   ]
  },
  {
   "attachments": {},
   "cell_type": "markdown",
   "metadata": {},
   "source": [
    "### <a id=\"sectionC\">C: Get elements</a>"
   ]
  },
  {
   "cell_type": "code",
   "execution_count": 6,
   "metadata": {},
   "outputs": [
    {
     "name": "stdout",
     "output_type": "stream",
     "text": [
      "VirtualNetwork(id=RD88bKGcz6ZfLQ2tkRw, label=COCA-COLA_LAN115, description=, vn_type=vxlan, vn_id=30115, reserved_vlan_id=115, security_zone_id=7e-efvi_Ci8OfmPPxxU, route_target=30115:1, dhcp_service=dhcpServiceDisabled, ipv4_enabled=False, virtual_gateway_ipv4_enabled=False, ipv6_enabled=False, virtual_gateway_ipv6_enabled=False, bound_to=[BoundTo(access_switch_node_ids=[], system_id='WZml4Yc6KFdcFFTYhI0', system=None, vlan_id=115), BoundTo(access_switch_node_ids=[], system_id='wwaj4PLX1by2NJRvdeg', system=None, vlan_id=115)])\n"
     ]
    }
   ],
   "source": [
    "virtual_network = apstra.blueprint.virtual_networks.get('COCA-COLA_LAN115')\n",
    "pprint(virtual_network)"
   ]
  },
  {
   "cell_type": "code",
   "execution_count": 8,
   "metadata": {},
   "outputs": [
    {
     "name": "stdout",
     "output_type": "stream",
     "text": [
      "VirtualNetwork(id=RD88bKGcz6ZfLQ2tkRw, label=COCA-COLA_LAN115, description=, vn_type=vxlan, vn_id=30115, reserved_vlan_id=115, security_zone_id=7e-efvi_Ci8OfmPPxxU, route_target=30115:1, dhcp_service=dhcpServiceDisabled, ipv4_enabled=False, virtual_gateway_ipv4_enabled=False, ipv6_enabled=False, virtual_gateway_ipv6_enabled=False, bound_to=[BoundTo(access_switch_node_ids=[], system_id='WZml4Yc6KFdcFFTYhI0', system=None, vlan_id=115), BoundTo(access_switch_node_ids=[], system_id='wwaj4PLX1by2NJRvdeg', system=None, vlan_id=115)])\n"
     ]
    }
   ],
   "source": [
    "virtual_network = apstra.blueprint.virtual_networks.get_by_id('RD88bKGcz6ZfLQ2tkRw')\n",
    "pprint(virtual_network, indent=4)"
   ]
  }
 ],
 "metadata": {
  "interpreter": {
   "hash": "916dbcbb3f70747c44a77c7bcd40155683ae19c65e1c03b4aa3499c5328201f1"
  },
  "kernelspec": {
   "display_name": "Python 3.8.10 64-bit",
   "language": "python",
   "name": "python3"
  },
  "language_info": {
   "codemirror_mode": {
    "name": "ipython",
    "version": 3
   },
   "file_extension": ".py",
   "mimetype": "text/x-python",
   "name": "python",
   "nbconvert_exporter": "python",
   "pygments_lexer": "ipython3",
   "version": "3.10.6"
  },
  "orig_nbformat": 4
 },
 "nbformat": 4,
 "nbformat_minor": 2
}
