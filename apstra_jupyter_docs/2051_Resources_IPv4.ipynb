{
 "cells": [
  {
   "attachments": {},
   "cell_type": "markdown",
   "metadata": {},
   "source": [
    "# Apstra 4.1.x API Tuturial"
   ]
  },
  {
   "attachments": {},
   "cell_type": "markdown",
   "metadata": {},
   "source": [
    "## 2051 - Resources IPv4<br>\n",
    "\n",
    "* <a href=\"#sectionLIBS\">Load libs</a><br>\n",
    "* <a href=\"#sectionLOGIN\">Login to Apstra</a><br>\n",
    "\n",
    "* <a href=\"#sectionA\">A: Create and delete IPv4 Pool</a><br>\n",
    "* <a href=\"#sectionB\">B: Get All</a><br>\n",
    "* <a href=\"#sectionC\">C: Get single element</a><br>\n"
   ]
  },
  {
   "attachments": {},
   "cell_type": "markdown",
   "metadata": {},
   "source": [
    "### <a id=\"sectionLIBS\">Load Libs</a>"
   ]
  },
  {
   "cell_type": "code",
   "execution_count": 1,
   "metadata": {},
   "outputs": [],
   "source": [
    "# Jupyter Internal Parameters\n",
    "%reload_ext autoreload\n",
    "%autoreload 2\n",
    "\n",
    "# Fix path for library\n",
    "import os, sys, pathlib\n",
    "sys.path.insert(0, str(pathlib.Path(os.path.dirname(os.path.abspath(\"__file__\"))).parent.resolve()))\n",
    "\n",
    "# Load pprint and Apstra\n",
    "from pprint import pprint\n",
    "from apstra import Apstra"
   ]
  },
  {
   "attachments": {},
   "cell_type": "markdown",
   "metadata": {},
   "source": [
    "### <a id=\"sectionLOGIN\">Load to Apstra</a>"
   ]
  },
  {
   "cell_type": "code",
   "execution_count": 2,
   "metadata": {},
   "outputs": [
    {
     "name": "stdout",
     "output_type": "stream",
     "text": [
      "Parameters(id=None,\n",
      "           active_bp=ActiveBlueprint(id='5558baca-3c49-4be9-8de9-581bc89cf794',\n",
      "                                     label='vEX Left',\n",
      "                                     controller='ApstraLAB'),\n",
      "           active_controller='ApstraLAB',\n",
      "           bp_cache={'vEX Left': ActiveBlueprint(id='5558baca-3c49-4be9-8de9-581bc89cf794',\n",
      "                                                 label='vEX Left',\n",
      "                                                 controller='ApstraLAB')},\n",
      "           systems={},\n",
      "           current_dir='/mnt/github/apstra-onboarding/apstra_jupyter_docs',\n",
      "           config={'aos': {'ApstraLAB': {'host': '10.10.10.8',\n",
      "                                         'password': 'admin',\n",
      "                                         'username': 'admin'}}},\n",
      "           sync={},\n",
      "           log=Log(path=None, file_path=None))\n"
     ]
    }
   ],
   "source": [
    "\n",
    "lab = {'name': 'ApstraLAB', 'host': '10.10.10.8', 'username': 'admin', 'password': 'admin' }\n",
    "\n",
    "apstra = Apstra()\n",
    "apstra.client.add_aos_controller(**lab)\n",
    "apstra.client.connect('ApstraLAB')\n",
    "apstra.client.change_blueprint(\"vEX Left\")\n",
    "\n",
    "pprint(apstra.parameters)\n",
    "# Just cleanup before create new start\n",
    "try:\n",
    "    apstra.resources.ipv4_pools.delete(\"IPv4_Pool_Example\")\n",
    "except:\n",
    "    pass"
   ]
  },
  {
   "attachments": {},
   "cell_type": "markdown",
   "metadata": {},
   "source": [
    "### <a id=\"sectionA\">A: Create and delete IPv4 Pool</a>"
   ]
  },
  {
   "cell_type": "code",
   "execution_count": 8,
   "metadata": {},
   "outputs": [
    {
     "name": "stdout",
     "output_type": "stream",
     "text": [
      "# Create reponse:\n",
      "ID(id='6317b38b-6cfc-8888-94d2-6707ddffbcbd')\n",
      "\n",
      "\n",
      "# Delete reponse:\n",
      "HttpStatus(status_code=202, description='Accepted')\n"
     ]
    }
   ],
   "source": [
    "\n",
    "name = \"IPv4_Pool_Example\"\n",
    "pools = [\"192.168.222.0/24\", \"172.1.0.0/16\"]\n",
    "\n",
    "response = apstra.resources.ipv4_pools.create(name, pools)\n",
    "print(\"# Create reponse:\")\n",
    "pprint(response)\n",
    "print(\"\\n\")\n",
    "\n",
    "response = apstra.resources.ipv4_pools.delete(name)\n",
    "print(\"# Delete reponse:\")\n",
    "pprint(response)"
   ]
  },
  {
   "attachments": {},
   "cell_type": "markdown",
   "metadata": {},
   "source": [
    "### <a id=\"sectionB\">B: Get All</a>"
   ]
  },
  {
   "cell_type": "code",
   "execution_count": 4,
   "metadata": {},
   "outputs": [
    {
     "data": {
      "text/plain": [
       "[IPv4Pool(status='not_in_use', subnets=[IPv4Subnet(status='pool_element_available', total='16', network='10.255.0.0/28', used='0', used_percentage=0.0)], used='0', display_name='DC1-Lo-SuperSpines', tags=['DC1'], created_at='2022-01-21T22:17:17.187034Z', last_modified_at='2022-01-21T22:17:17.187034Z', used_percentage=0.0, total='16', id='ip_dc1_loopbacks_superspines'),\n",
       " IPv4Pool(status='not_in_use', subnets=[IPv4Subnet(status='pool_element_available', total='512', network='10.255.6.0/23', used='0', used_percentage=0.0)], used='0', display_name='DC1-Links-Spines2Leafs', tags=['DC1'], created_at='2022-01-21T22:17:17.472942Z', last_modified_at='2022-01-21T22:17:17.472942Z', used_percentage=0.0, total='512', id='ip_dc1_links_spines2leafs'),\n",
       " IPv4Pool(status='in_use', subnets=[IPv4Subnet(status='pool_element_in_use', total='4096', network='169.254.240.0/20', used='4', used_percentage=0.09765625)], used='4', display_name='PEPSI_Leaf_Loopback_IPs', tags=[], created_at='2022-06-24T23:57:57.890450Z', last_modified_at='2022-06-24T23:57:57.890450Z', used_percentage=0.09765625, total='4096', id='0dee453c-e149-4d83-96bb-d272f101645c'),\n",
       " IPv4Pool(status='not_in_use', subnets=[IPv4Subnet(status='pool_element_available', total='4096', network='169.253.0.0/20', used='0', used_percentage=0.0)], used='0', display_name='DC1-Leaf_L3_Peer_Links', tags=[], created_at='2022-09-29T01:15:47.761908Z', last_modified_at='2022-09-29T01:15:47.761908Z', used_percentage=0.0, total='4096', id='eb858c3f-e185-46c9-b418-201c30219514'),\n",
       " IPv4Pool(status='not_in_use', subnets=[IPv4Subnet(status='pool_element_available', total='16777216', network='10.0.0.0/8', used='0', used_percentage=0.0)], used='0', display_name='Private-10.0.0.0/8', tags=['default'], created_at='2021-12-10T01:39:13.717052Z', last_modified_at='2021-12-10T01:39:13.717052Z', used_percentage=0.0, total='16777216', id='Private-10_0_0_0-8'),\n",
       " IPv4Pool(status='not_in_use', subnets=[IPv4Subnet(status='pool_element_available', total='128', network='10.255.0.128/25', used='0', used_percentage=0.0), IPv4Subnet(status='pool_element_available', total='32', network='10.255.0.32/27', used='0', used_percentage=0.0), IPv4Subnet(status='pool_element_available', total='64', network='10.255.0.64/26', used='0', used_percentage=0.0)], used='0', display_name='DC1-Lo-Leafs', tags=['DC1'], created_at='2022-01-21T22:17:17.281387Z', last_modified_at='2022-01-21T22:17:17.281387Z', used_percentage=0.0, total='224', id='ip_dc1_loopbacks_leafs'),\n",
       " IPv4Pool(status='in_use', subnets=[IPv4Subnet(status='pool_element_in_use', total='256', network='172.0.1.0/24', used='4', used_percentage=1.5625)], used='4', display_name='Collaps A - Link IPs Generic', tags=[], created_at='1970-01-01T00:00:00.000000Z', last_modified_at='2023-03-31T14:54:34.925947Z', used_percentage=1.5625, total='256', id='61e375cb-eaf8-4cb4-9455-0faa9f727821'),\n",
       " IPv4Pool(status='not_in_use', subnets=[IPv4Subnet(status='pool_element_available', total='64', network='10.255.4.128/26', used='0', used_percentage=0.0)], used='0', display_name='DC1-Links-Spines2Superspines', tags=['DC1'], created_at='2022-01-21T22:17:17.425441Z', last_modified_at='2022-01-21T22:17:17.425441Z', used_percentage=0.0, total='64', id='ip_dc1_links_spines2superspines'),\n",
       " IPv4Pool(status='in_use', subnets=[IPv4Subnet(status='pool_element_in_use', total='256', network='10.192.192.0/24', used='32', used_percentage=12.5)], used='32', display_name='vEX Links', tags=[], created_at='2022-10-03T20:01:36.712163Z', last_modified_at='2022-10-03T20:01:36.712163Z', used_percentage=12.5, total='256', id='4007517b-64be-4646-b9f2-5bae0a7b2253'),\n",
       " IPv4Pool(status='not_in_use', subnets=[IPv4Subnet(status='pool_element_available', total='1048576', network='172.16.0.0/12', used='0', used_percentage=0.0)], used='0', display_name='Private-172.16.0.0/12', tags=['default'], created_at='2021-12-10T01:39:13.716562Z', last_modified_at='2021-12-10T01:39:13.716562Z', used_percentage=0.0, total='1048576', id='Private-172_16_0_0-12'),\n",
       " IPv4Pool(status='not_in_use', subnets=[IPv4Subnet(status='pool_element_available', total='256', network='192.168.233.0/24', used='0', used_percentage=0.0)], used='0', display_name='MyLoopbacks', tags=[], created_at='2023-03-13T03:45:00.414647Z', last_modified_at='2023-03-13T03:45:00.414647Z', used_percentage=0.0, total='256', id='3f1dbbc3-94ff-4004-be57-a7dccf1c9125'),\n",
       " IPv4Pool(status='not_in_use', subnets=[IPv4Subnet(status='pool_element_available', total='16', network='10.255.0.16/28', used='0', used_percentage=0.0)], used='0', display_name='DC1-Lo-Spines', tags=['DC1'], created_at='2022-01-21T22:17:17.234240Z', last_modified_at='2022-01-21T22:17:17.234240Z', used_percentage=0.0, total='16', id='ip_dc1_loopbacks_spines'),\n",
       " IPv4Pool(status='in_use', subnets=[IPv4Subnet(status='pool_element_in_use', total='256', network='10.128.0.0/24', used='20', used_percentage=7.8125)], used='20', display_name='VRF-Leaf-Loopbacks', tags=[], created_at='2023-03-28T23:29:48.491294Z', last_modified_at='2023-03-28T23:29:48.491294Z', used_percentage=7.8125, total='256', id='VRF-Leaf-Loopbacks'),\n",
       " IPv4Pool(status='in_use', subnets=[IPv4Subnet(status='pool_element_in_use', total='65536', network='192.168.0.0/16', used='4', used_percentage=0.006103515625)], used='4', display_name='Private-192.168.0.0/16', tags=['default'], created_at='2021-12-10T01:39:13.716313Z', last_modified_at='2021-12-10T01:39:13.716313Z', used_percentage=0.006103515625, total='65536', id='Private-192_168_0_0-16'),\n",
       " IPv4Pool(status='not_in_use', subnets=[IPv4Subnet(status='pool_element_available', total='256', network='10.128.0.0/24', used='0', used_percentage=0.0)], used='0', display_name='VRF-Leaf-Loopbacks2', tags=[], created_at='2023-04-13T20:49:07.247505Z', last_modified_at='2023-04-13T20:49:07.247505Z', used_percentage=0.0, total='256', id='0270f584-2574-0721-9367-6e7a5054d2ca'),\n",
       " IPv4Pool(status='not_in_use', subnets=[IPv4Subnet(status='pool_element_available', total='4096', network='169.254.240.0/20', used='0', used_percentage=0.0)], used='0', display_name='sprite-Leaf_Loopback_IPs', tags=[], created_at='2022-09-29T01:15:47.709279Z', last_modified_at='2022-09-29T01:15:47.709279Z', used_percentage=0.0, total='4096', id='4fa051f5-4005-483d-9bc1-12281957710b'),\n",
       " IPv4Pool(status='not_in_use', subnets=[IPv4Subnet(status='pool_element_available', total='65536', network='169.254.0.0/16', used='0', used_percentage=0.0)], used='0', display_name='DC1-VNI-Loopbacks', tags=['DC1'], created_at='2022-01-21T22:17:17.330153Z', last_modified_at='2022-01-21T22:17:17.330153Z', used_percentage=0.0, total='65536', id='ip_dc1_vni_loopbacks'),\n",
       " IPv4Pool(status='in_use', subnets=[IPv4Subnet(status='pool_element_in_use', total='256', network='10.30.222.0/24', used='2', used_percentage=0.78125)], used='2', display_name='vMX-Link-Internal', tags=[], created_at='2023-03-31T13:19:00.541160Z', last_modified_at='2023-03-31T13:19:00.541160Z', used_percentage=0.78125, total='256', id='8fd28028-90f9-4397-8d55-f17608d7a549'),\n",
       " IPv4Pool(status='in_use', subnets=[IPv4Subnet(status='pool_element_in_use', total='256', network='10.192.168.0/24', used='16', used_percentage=6.25)], used='16', display_name='vEX Loopbacks', tags=[], created_at='2022-10-03T19:16:53.375963Z', last_modified_at='2022-10-03T19:16:53.375963Z', used_percentage=6.25, total='256', id='f040415f-f15a-47c9-9311-e793a9b65c02'),\n",
       " IPv4Pool(status='in_use', subnets=[IPv4Subnet(status='pool_element_in_use', total='256', network='172.31.31.0/24', used='8', used_percentage=3.125)], used='8', display_name='Leafs2Leafs', tags=[], created_at='2023-03-30T23:19:21.085498Z', last_modified_at='2023-03-30T23:19:21.085498Z', used_percentage=3.125, total='256', id='e98d0e69-53a1-47b3-97af-e5f8c51b56c1'),\n",
       " IPv4Pool(status='not_in_use', subnets=[IPv4Subnet(status='pool_element_available', total='256', network='203.0.113.0/24', used='0', used_percentage=0.0)], used='0', display_name='TESTNET-203.0.113.0/24', tags=['default'], created_at='2021-12-10T01:39:13.716815Z', last_modified_at='2021-12-10T01:39:13.716815Z', used_percentage=0.0, total='256', id='TESTNET-203_0_113_0-24'),\n",
       " IPv4Pool(status='not_in_use', subnets=[IPv4Subnet(status='pool_element_available', total='4096', network='169.254.240.0/20', used='0', used_percentage=0.0)], used='0', display_name='azdolinski-Leaf_Loopback_IPs', tags=[], created_at='2022-06-26T23:22:08.982419Z', last_modified_at='2022-06-26T23:22:08.982419Z', used_percentage=0.0, total='4096', id='f1279f48-9109-4553-a69c-1771ebe42ef0'),\n",
       " IPv4Pool(status='not_in_use', subnets=[IPv4Subnet(status='pool_element_available', total='128', network='10.255.4.0/25', used='0', used_percentage=0.0)], used='0', display_name='DC1-Links-To-Generic-Underlay', tags=['DC1'], created_at='2022-01-21T22:17:17.377421Z', last_modified_at='2022-01-21T22:17:17.377421Z', used_percentage=0.0, total='128', id='ip_dc1_links_to_generic_underlay'),\n",
       " IPv4Pool(status='not_in_use', subnets=[IPv4Subnet(status='pool_element_available', total='256', network='192.168.88.0/24', used='0', used_percentage=0.0)], used='0', display_name='DEMO1-IP-Loopbacks', tags=['TAG2', 'TAG1'], created_at='2023-03-16T02:36:55.203043Z', last_modified_at='2023-03-16T02:36:55.203043Z', used_percentage=0.0, total='256', id='DEMO1-IP-Loopbacks'),\n",
       " IPv4Pool(status='in_use', subnets=[IPv4Subnet(status='pool_element_in_use', total='256', network='172.0.2.0/24', used='4', used_percentage=1.5625)], used='4', display_name='Collaps B - Link IPs Generic', tags=[], created_at='1970-01-01T00:00:00.000000Z', last_modified_at='2023-03-31T14:54:44.019071Z', used_percentage=1.5625, total='256', id='5b47bf20-6451-4458-9644-771c33cc18b6'),\n",
       " IPv4Pool(status='not_in_use', subnets=[IPv4Subnet(status='pool_element_available', total='4096', network='169.254.240.0/20', used='0', used_percentage=0.0)], used='0', display_name='aaa-Leaf_Loopback_IPs', tags=[], created_at='2022-06-27T22:47:45.458504Z', last_modified_at='2022-06-27T22:47:45.458504Z', used_percentage=0.0, total='4096', id='91ed83ff-cba0-4e20-8804-f1b98ce8801d'),\n",
       " IPv4Pool(status='not_in_use', subnets=[IPv4Subnet(status='pool_element_available', total='4096', network='169.253.0.0/20', used='0', used_percentage=0.0)], used='0', display_name='vEX DC-Leaf_L3_Peer_Links', tags=[], created_at='2022-09-30T00:22:43.879063Z', last_modified_at='2022-09-30T00:22:43.879063Z', used_percentage=0.0, total='4096', id='a78efec0-16c9-47fb-81c6-c8780a05ab64'),\n",
       " IPv4Pool(status='not_in_use', subnets=[IPv4Subnet(status='pool_element_available', total='256', network='172.0.3.0/24', used='0', used_percentage=0.0)], used='0', display_name='Site C - Link IPs Generic', tags=[], created_at='1970-01-01T00:00:00.000000Z', last_modified_at='2023-03-31T14:55:11.507380Z', used_percentage=0.0, total='256', id='83edba78-d9eb-4381-a9d3-3f19898b9b24'),\n",
       " IPv4Pool(status='in_use', subnets=[IPv4Subnet(status='pool_element_in_use', total='256', network='10.199.199.0/24', used='2', used_percentage=0.78125)], used='2', display_name='vMX-Loopbacks', tags=[], created_at='2023-03-31T02:10:28.590993Z', last_modified_at='2023-03-31T02:10:28.590993Z', used_percentage=0.78125, total='256', id='1db8af67-b93b-4c41-934b-945cf44c827c')]"
      ]
     },
     "execution_count": 4,
     "metadata": {},
     "output_type": "execute_result"
    }
   ],
   "source": [
    "apstra.resources.ipv4_pools.get_all()"
   ]
  },
  {
   "attachments": {},
   "cell_type": "markdown",
   "metadata": {},
   "source": [
    "### <a id=\"sectionC\">C: Get single element</a>"
   ]
  },
  {
   "cell_type": "code",
   "execution_count": 5,
   "metadata": {},
   "outputs": [
    {
     "name": "stdout",
     "output_type": "stream",
     "text": [
      "IPv4Pool(status='not_in_use',\n",
      "         subnets=[IPv4Subnet(status='pool_element_available',\n",
      "                             total='256',\n",
      "                             network='203.0.113.0/24',\n",
      "                             used='0',\n",
      "                             used_percentage=0.0)],\n",
      "         used='0',\n",
      "         display_name='TESTNET-203.0.113.0/24',\n",
      "         tags=['default'],\n",
      "         created_at='2021-12-10T01:39:13.716815Z',\n",
      "         last_modified_at='2021-12-10T01:39:13.716815Z',\n",
      "         used_percentage=0.0,\n",
      "         total='256',\n",
      "         id='TESTNET-203_0_113_0-24')\n"
     ]
    }
   ],
   "source": [
    "# By name\n",
    "reponse = apstra.resources.ipv4_pools.get(\"TESTNET-203.0.113.0/24\")\n",
    "pprint(reponse)"
   ]
  },
  {
   "cell_type": "code",
   "execution_count": 6,
   "metadata": {},
   "outputs": [
    {
     "name": "stdout",
     "output_type": "stream",
     "text": [
      "IPv4Pool(status='not_in_use',\n",
      "         subnets=[IPv4Subnet(status='pool_element_available',\n",
      "                             total='256',\n",
      "                             network='172.0.3.0/24',\n",
      "                             used='0',\n",
      "                             used_percentage=0.0)],\n",
      "         used='0',\n",
      "         display_name='Site C - Link IPs Generic',\n",
      "         tags=[],\n",
      "         created_at='1970-01-01T00:00:00.000000Z',\n",
      "         last_modified_at='2023-03-31T14:55:11.507380Z',\n",
      "         used_percentage=0.0,\n",
      "         total='256',\n",
      "         id='83edba78-d9eb-4381-a9d3-3f19898b9b24')\n"
     ]
    }
   ],
   "source": [
    "# By id\n",
    "reponse = apstra.resources.ipv4_pools.get_by_id(\"83edba78-d9eb-4381-a9d3-3f19898b9b24\")\n",
    "pprint(reponse)"
   ]
  }
 ],
 "metadata": {
  "interpreter": {
   "hash": "916dbcbb3f70747c44a77c7bcd40155683ae19c65e1c03b4aa3499c5328201f1"
  },
  "kernelspec": {
   "display_name": "Python 3.8.10 64-bit",
   "language": "python",
   "name": "python3"
  },
  "language_info": {
   "codemirror_mode": {
    "name": "ipython",
    "version": 3
   },
   "file_extension": ".py",
   "mimetype": "text/x-python",
   "name": "python",
   "nbconvert_exporter": "python",
   "pygments_lexer": "ipython3",
   "version": "3.10.6"
  },
  "orig_nbformat": 4
 },
 "nbformat": 4,
 "nbformat_minor": 2
}
