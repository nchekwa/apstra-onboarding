{
 "cells": [
  {
   "attachments": {},
   "cell_type": "markdown",
   "metadata": {},
   "source": [
    "# Apstra 4.1.x API Tuturial"
   ]
  },
  {
   "attachments": {},
   "cell_type": "markdown",
   "metadata": {},
   "source": [
    "## 2100 - Routing Policies\n",
    "\n",
    "* <a href=\"#sectionLIBS\">Load libs</a><br>\n",
    "* <a href=\"#sectionLOGIN\">Login to Apstra</a><br>\n",
    "\n",
    "* <a href=\"#sectionA\">A: Create Route Policy based on Objects (DAO)</a><br>\n",
    "* <a href=\"#sectionB\">B: Get All</a><br>\n",
    "* <a href=\"#sectionC\">C: Get single element</a><br>"
   ]
  },
  {
   "attachments": {},
   "cell_type": "markdown",
   "metadata": {},
   "source": [
    "Example how to create and delete 'Routing Policies'"
   ]
  },
  {
   "attachments": {},
   "cell_type": "markdown",
   "metadata": {},
   "source": [
    "### <a id=\"sectionLIBS\">Load Libs</a>"
   ]
  },
  {
   "cell_type": "code",
   "execution_count": 1,
   "metadata": {},
   "outputs": [],
   "source": [
    "# Jupyter Internal Parameters\n",
    "%reload_ext autoreload\n",
    "%autoreload 2\n",
    "\n",
    "# ######################################################################################\n",
    "# Just for fix path for Jupyter docs\n",
    "import os, sys, pathlib\n",
    "sys.path.insert(0, str(pathlib.Path(os.path.dirname(os.path.abspath(\"__file__\"))).parent.resolve()))\n",
    "# ######################################################################################\n",
    "from pprint import pprint\n",
    "from apstra import Apstra"
   ]
  },
  {
   "attachments": {},
   "cell_type": "markdown",
   "metadata": {},
   "source": [
    "### <a id=\"sectionLOGIN\">Login to Apstra</a>"
   ]
  },
  {
   "cell_type": "code",
   "execution_count": 2,
   "metadata": {},
   "outputs": [
    {
     "data": {
      "text/plain": [
       "ActiveBlueprint(id='5558baca-3c49-4be9-8de9-581bc89cf794', label='vEX Left', controller='ApstraLAB')"
      ]
     },
     "execution_count": 2,
     "metadata": {},
     "output_type": "execute_result"
    }
   ],
   "source": [
    "lab = {'name': 'ApstraLAB', 'host': '10.10.10.8', 'username': 'admin', 'password': 'admin' }\n",
    "\n",
    "apstra = Apstra()\n",
    "apstra.client.add_aos_controller(**lab)\n",
    "apstra.client.connect('ApstraLAB')\n",
    "apstra.client.change_blueprint(\"vEX Left\")"
   ]
  },
  {
   "attachments": {},
   "cell_type": "markdown",
   "metadata": {},
   "source": [
    "### <a id=\"sectionA\">A: Create Route Policy based on Objects (DAO)</a>"
   ]
  },
  {
   "cell_type": "code",
   "execution_count": 3,
   "metadata": {},
   "outputs": [
    {
     "name": "stdout",
     "output_type": "stream",
     "text": [
      "### Create reponse\n",
      "AsyncResponse(id='eBH2VHUjKDjRb_QBEIM',\n",
      "              task_id='c2e4f73b-fb2f-428b-952e-9509976a85af',\n",
      "              task_status='succeeded',\n",
      "              task_processing_time=0.223949)\n",
      "### Delete reponse\n",
      "HttpStatus(status_code=204, description='No Content')\n"
     ]
    }
   ],
   "source": [
    "from apstra.dao import RoutePolicy\n",
    "from apstra.dao import ExportPolicy\n",
    "from apstra.dao import ExtraRoute\n",
    "\n",
    "# Just cleanup before create new one\n",
    "try:\n",
    "    apstra.blueprint.routing_policies.delete(\"MyRoutePolicy\")\n",
    "except:\n",
    "    pass\n",
    "\n",
    "# Example:\n",
    "route_policy = RoutePolicy(\n",
    "    export_policy=ExportPolicy(\n",
    "        static_routes=True,\n",
    "        loopbacks=True,\n",
    "        spine_superspine_links=False,\n",
    "        l3edge_server_links=True,\n",
    "        spine_leaf_links=True,\n",
    "        l2edge_subnets=True\n",
    "    ),\n",
    "    description=\"new description\",\n",
    "    expect_default_ipv4_route=True,\n",
    "    extra_export_routes=[\n",
    "        ExtraRoute(\n",
    "            action=\"permit\",\n",
    "            prefix=\"5.0.0.0/8\",\n",
    "            le_mask=24,\n",
    "            ge_mask=16\n",
    "        ),\n",
    "        ExtraRoute(\n",
    "            action=\"deny\",\n",
    "            prefix=\"6.0.0.0/8\",\n",
    "            le_mask=24,\n",
    "            ge_mask=16\n",
    "        )\n",
    "    ],\n",
    "    aggregate_prefixes=[\n",
    "        \"7.0.0.0/24\",\n",
    "        \"8.0.0.0/24\"\n",
    "    ],\n",
    "    label=\"MyRoutePolicy\",\n",
    "    policy_type=\"user_defined\",\n",
    "    expect_default_ipv6_route=True,\n",
    "    extra_import_routes=[\n",
    "        ExtraRoute(\n",
    "            action=\"permit\",\n",
    "            prefix=\"14.0.0.0/16\",\n",
    "            le_mask=24,\n",
    "            ge_mask=22\n",
    "        )\n",
    "    ],\n",
    "    import_policy=\"none\"\n",
    ")\n",
    "\n",
    "# Create\n",
    "response = apstra.blueprint.routing_policies.create(route_policy)\n",
    "print(\"### Create reponse\")\n",
    "pprint(response)\n",
    "\n",
    "# Delete\n",
    "response = apstra.blueprint.routing_policies.delete(response.id)\n",
    "print(\"### Delete reponse\")\n",
    "pprint(response)\n",
    "\n",
    "# Create silent -> for next docs purpose\n",
    "apstra.blueprint.routing_policies.create(route_policy);"
   ]
  },
  {
   "cell_type": "code",
   "execution_count": 8,
   "metadata": {},
   "outputs": [
    {
     "name": "stdout",
     "output_type": "stream",
     "text": [
      "### Create reponse\n",
      "AsyncResponse(id='uclgkRbgIYES9-Ht3gM',\n",
      "              task_id='1f28c982-8a8b-403d-96d9-4761248e2eca',\n",
      "              task_status='succeeded',\n",
      "              task_processing_time=0.238598)\n",
      "\n",
      "\n",
      "### Delete reponse\n",
      "HttpStatus(status_code=204, description='No Content')\n"
     ]
    }
   ],
   "source": [
    "# Create based on Dict input data\n",
    "route_policy = {\"label\": \"MyRoutePolicy2\"}\n",
    "\n",
    "# Create\n",
    "response = apstra.blueprint.routing_policies.create(route_policy)\n",
    "print(\"### Create reponse\")\n",
    "pprint(response)\n",
    "print(\"\\n\")\n",
    "\n",
    "# Delete\n",
    "response = apstra.blueprint.routing_policies.delete(response.id)\n",
    "print(\"### Delete reponse\")\n",
    "pprint(response)"
   ]
  },
  {
   "attachments": {},
   "cell_type": "markdown",
   "metadata": {},
   "source": [
    "### <a id=\"sectionB\">B: Get All</a>"
   ]
  },
  {
   "cell_type": "code",
   "execution_count": 5,
   "metadata": {},
   "outputs": [
    {
     "name": "stdout",
     "output_type": "stream",
     "text": [
      "[RoutePolicy(export_policy=ExportPolicy(static_routes=True,\n",
      "                                        loopbacks=True,\n",
      "                                        spine_superspine_links=True,\n",
      "                                        l3edge_server_links=True,\n",
      "                                        spine_leaf_links=True,\n",
      "                                        l2edge_subnets=True),\n",
      "             description=None,\n",
      "             expect_default_ipv4_route=False,\n",
      "             extra_export_routes=[ExtraRoute(action='permit',\n",
      "                                             prefix='10.192.168.8/32',\n",
      "                                             le_mask=None,\n",
      "                                             ge_mask=None)],\n",
      "             aggregate_prefixes=[],\n",
      "             label='Underlay-Ext',\n",
      "             policy_type='user_defined',\n",
      "             expect_default_ipv6_route=False,\n",
      "             extra_import_routes=[ExtraRoute(action='deny',\n",
      "                                             prefix='10.192.168.2/32',\n",
      "                                             le_mask=None,\n",
      "                                             ge_mask=None),\n",
      "                                  ExtraRoute(action='deny',\n",
      "                                             prefix='10.192.168.3/32',\n",
      "                                             le_mask=None,\n",
      "                                             ge_mask=None),\n",
      "                                  ExtraRoute(action='permit',\n",
      "                                             prefix='10.18.18.0/32',\n",
      "                                             le_mask=None,\n",
      "                                             ge_mask=None)],\n",
      "             id='_bpDX67OtJ08kxHltyk',\n",
      "             import_policy='all'),\n",
      " RoutePolicy(export_policy=ExportPolicy(static_routes=False,\n",
      "                                        loopbacks=True,\n",
      "                                        spine_superspine_links=False,\n",
      "                                        l3edge_server_links=True,\n",
      "                                        spine_leaf_links=False,\n",
      "                                        l2edge_subnets=True),\n",
      "             description='Associated with routing zones by default, cannot be '\n",
      "                         'updated or deleted.',\n",
      "             expect_default_ipv4_route=True,\n",
      "             extra_export_routes=[],\n",
      "             aggregate_prefixes=[],\n",
      "             label='Default_immutable',\n",
      "             policy_type='default_immutable',\n",
      "             expect_default_ipv6_route=True,\n",
      "             extra_import_routes=[],\n",
      "             id='4HbHzS5qipU3vPomSDA',\n",
      "             import_policy='all'),\n",
      " RoutePolicy(export_policy=ExportPolicy(static_routes=True,\n",
      "                                        loopbacks=True,\n",
      "                                        spine_superspine_links=False,\n",
      "                                        l3edge_server_links=True,\n",
      "                                        spine_leaf_links=True,\n",
      "                                        l2edge_subnets=True),\n",
      "             description='new description',\n",
      "             expect_default_ipv4_route=True,\n",
      "             extra_export_routes=[ExtraRoute(action='permit',\n",
      "                                             prefix='5.0.0.0/8',\n",
      "                                             le_mask=24,\n",
      "                                             ge_mask=16),\n",
      "                                  ExtraRoute(action='deny',\n",
      "                                             prefix='6.0.0.0/8',\n",
      "                                             le_mask=24,\n",
      "                                             ge_mask=16)],\n",
      "             aggregate_prefixes=['7.0.0.0/24', '8.0.0.0/24'],\n",
      "             label='MyRoutePolicy',\n",
      "             policy_type='user_defined',\n",
      "             expect_default_ipv6_route=True,\n",
      "             extra_import_routes=[ExtraRoute(action='permit',\n",
      "                                             prefix='14.0.0.0/16',\n",
      "                                             le_mask=24,\n",
      "                                             ge_mask=22)],\n",
      "             id='rxx0rcZthSKZuCxQ5l4',\n",
      "             import_policy='all')]\n"
     ]
    }
   ],
   "source": [
    "# Get All\n",
    "response = apstra.blueprint.routing_policies.get_all()\n",
    "pprint(response)"
   ]
  },
  {
   "attachments": {},
   "cell_type": "markdown",
   "metadata": {},
   "source": [
    "### <a id=\"sectionC\">C: Get single element</a>"
   ]
  },
  {
   "cell_type": "code",
   "execution_count": 6,
   "metadata": {},
   "outputs": [
    {
     "name": "stdout",
     "output_type": "stream",
     "text": [
      "RoutePolicy(export_policy=ExportPolicy(static_routes=False,\n",
      "                                       loopbacks=True,\n",
      "                                       spine_superspine_links=False,\n",
      "                                       l3edge_server_links=True,\n",
      "                                       spine_leaf_links=False,\n",
      "                                       l2edge_subnets=True),\n",
      "            description='Associated with routing zones by default, cannot be '\n",
      "                        'updated or deleted.',\n",
      "            expect_default_ipv4_route=True,\n",
      "            extra_export_routes=[],\n",
      "            aggregate_prefixes=[],\n",
      "            label='Default_immutable',\n",
      "            policy_type='default_immutable',\n",
      "            expect_default_ipv6_route=True,\n",
      "            extra_import_routes=[],\n",
      "            id='4HbHzS5qipU3vPomSDA',\n",
      "            import_policy='all')\n"
     ]
    }
   ],
   "source": [
    "# Get by Route Policy Name (label)\n",
    "response = apstra.blueprint.routing_policies.get(\"Default_immutable\")\n",
    "pprint(response)"
   ]
  },
  {
   "cell_type": "code",
   "execution_count": 7,
   "metadata": {},
   "outputs": [
    {
     "name": "stdout",
     "output_type": "stream",
     "text": [
      "ExportPolicy(static_routes=False,\n",
      "             loopbacks=True,\n",
      "             spine_superspine_links=False,\n",
      "             l3edge_server_links=True,\n",
      "             spine_leaf_links=False,\n",
      "             l2edge_subnets=True)\n"
     ]
    }
   ],
   "source": [
    "# Get by ID\n",
    "response = apstra.blueprint.routing_policies.get(\"4HbHzS5qipU3vPomSDA\", search_key=\"id\")\n",
    "# Get nested content like ExtraRoute\n",
    "pprint(response.export_policy)"
   ]
  }
 ],
 "metadata": {
  "interpreter": {
   "hash": "916dbcbb3f70747c44a77c7bcd40155683ae19c65e1c03b4aa3499c5328201f1"
  },
  "kernelspec": {
   "display_name": "Python 3.8.10 64-bit",
   "language": "python",
   "name": "python3"
  },
  "language_info": {
   "codemirror_mode": {
    "name": "ipython",
    "version": 3
   },
   "file_extension": ".py",
   "mimetype": "text/x-python",
   "name": "python",
   "nbconvert_exporter": "python",
   "pygments_lexer": "ipython3",
   "version": "3.10.6"
  },
  "orig_nbformat": 4
 },
 "nbformat": 4,
 "nbformat_minor": 2
}
