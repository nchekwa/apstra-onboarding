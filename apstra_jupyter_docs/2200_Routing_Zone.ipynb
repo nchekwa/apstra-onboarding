{
 "cells": [
  {
   "attachments": {},
   "cell_type": "markdown",
   "metadata": {},
   "source": [
    "# Apstra 4.1.x API Tuturial"
   ]
  },
  {
   "attachments": {},
   "cell_type": "markdown",
   "metadata": {},
   "source": [
    "## 2200 - Routing Zones\n",
    "\n",
    "* <a href=\"#sectionLIBS\">Load libs</a><br>\n",
    "* <a href=\"#sectionLOGIN\">Login to Apstra</a><br>\n",
    "\n",
    "* <a href=\"#sectionA\">A: Create Route Policy based on Objects (DAO)</a><br>\n",
    "* <a href=\"#sectionB\">B: Get All</a><br>\n",
    "* <a href=\"#sectionC\">C: Get Nested element (with RoutePolicy)</a><br>"
   ]
  },
  {
   "attachments": {},
   "cell_type": "markdown",
   "metadata": {},
   "source": [
    "### <a id=\"sectionLIBS\">Load Libs</a>"
   ]
  },
  {
   "cell_type": "code",
   "execution_count": 1,
   "metadata": {},
   "outputs": [],
   "source": [
    "# Jupyter Internal Parameters\n",
    "%reload_ext autoreload\n",
    "%autoreload 2\n",
    "\n",
    "# ######################################################################################\n",
    "# Just for fix path for Jupyter docs\n",
    "import os, sys, pathlib\n",
    "sys.path.insert(0, str(pathlib.Path(os.path.dirname(os.path.abspath(\"__file__\"))).parent.resolve()))\n",
    "# ######################################################################################\n",
    "from pprint import pprint\n",
    "from apstra import Apstra"
   ]
  },
  {
   "attachments": {},
   "cell_type": "markdown",
   "metadata": {},
   "source": [
    "### <a id=\"sectionLOGIN\">Login to Apstra</a>"
   ]
  },
  {
   "cell_type": "code",
   "execution_count": 2,
   "metadata": {},
   "outputs": [
    {
     "data": {
      "text/plain": [
       "ActiveBlueprint(id='5558baca-3c49-4be9-8de9-581bc89cf794', label='vEX Left', controller='ApstraLAB')"
      ]
     },
     "execution_count": 2,
     "metadata": {},
     "output_type": "execute_result"
    }
   ],
   "source": [
    "lab = {'name': 'ApstraLAB', 'host': '10.10.10.8', 'username': 'admin', 'password': 'admin' }\n",
    "\n",
    "apstra = Apstra()\n",
    "apstra.client.add_aos_controller(**lab)\n",
    "apstra.client.connect('ApstraLAB')\n",
    "apstra.client.change_blueprint(\"vEX Left\")"
   ]
  },
  {
   "attachments": {},
   "cell_type": "markdown",
   "metadata": {},
   "source": [
    "### <a id=\"sectionA\">A: Create Route Policy based on Objects (DAO)</a>"
   ]
  },
  {
   "cell_type": "code",
   "execution_count": 3,
   "metadata": {},
   "outputs": [
    {
     "name": "stdout",
     "output_type": "stream",
     "text": [
      "RoutingZone(sz_type='evpn',\n",
      "            vni_id=None,\n",
      "            route_target=None,\n",
      "            routing_policy_id=None,\n",
      "            routing_policy=None,\n",
      "            label='MyRouteZone',\n",
      "            vrf_name='default',\n",
      "            rt_policy=None,\n",
      "            id=None,\n",
      "            vlan_id=None)\n",
      "HttpStatus(status_code=202, description='Accepted')\n"
     ]
    }
   ],
   "source": [
    "from apstra.dao import RoutingZone\n",
    "\n",
    "routing_zone_data = RoutingZone(label=\"MyRouteZone\")\n",
    "\n",
    "try:\n",
    "    apstra.blueprint.routing_zones.delete(\"MyRouteZone\")\n",
    "except:\n",
    "    pass\n",
    "\n",
    "reponse = apstra.blueprint.routing_zones.create(routing_zone_data)\n",
    "pprint(reponse)\n",
    "\n",
    "reponse = apstra.blueprint.routing_zones.delete(\"MyRouteZone\")\n",
    "pprint(reponse)\n",
    "\n",
    "#reponse = apstra.blueprint.routing_zones.create(routing_zone_data);"
   ]
  },
  {
   "cell_type": "code",
   "execution_count": 4,
   "metadata": {},
   "outputs": [
    {
     "name": "stdout",
     "output_type": "stream",
     "text": [
      "RoutingZone(sz_type='evpn',\n",
      "            vni_id=16110256,\n",
      "            route_target=None,\n",
      "            routing_policy_id=None,\n",
      "            routing_policy='MyRoutePolicy',\n",
      "            label='MyRouteZone2',\n",
      "            vrf_name='default',\n",
      "            rt_policy=None,\n",
      "            id=None,\n",
      "            vlan_id=256)\n",
      "HttpStatus(status_code=202, description='Accepted')\n"
     ]
    }
   ],
   "source": [
    "# Example Dict\n",
    "routing_zone_data = {\n",
    "    \"sz_type\": \"evpn\",\n",
    "    \"vni_id\": 16110256,\n",
    "    \"routing_policy\": \"MyRoutePolicy\",\n",
    "    \"label\": \"MyRouteZone2\",\n",
    "    \"vlan_id\": 256,\n",
    "    \"leaf_loopback_ip_pools\": ['Private-192.168.0.0/16'],\n",
    "    \"dhcp_servers\": [\"192.168.1.1\"]\n",
    "}\n",
    "\n",
    "try:\n",
    "    apstra.blueprint.routing_zones.delete(\"MyRouteZone2\")\n",
    "except:\n",
    "    pass\n",
    "\n",
    "reponse = apstra.blueprint.routing_zones.create(routing_zone_data)\n",
    "pprint(reponse)\n",
    "\n",
    "reponse = apstra.blueprint.routing_zones.delete(\"MyRouteZone2\")\n",
    "pprint(reponse)\n",
    "\n",
    "reponse = apstra.blueprint.routing_zones.create(routing_zone_data);\n"
   ]
  },
  {
   "cell_type": "markdown",
   "metadata": {},
   "source": [
    "### <a id=\"sectionB\">B: Get All</a>"
   ]
  },
  {
   "cell_type": "code",
   "execution_count": 5,
   "metadata": {},
   "outputs": [
    {
     "name": "stdout",
     "output_type": "stream",
     "text": [
      "[RoutingZone(sz_type='l3_fabric',\n",
      "             vni_id=None,\n",
      "             route_target=None,\n",
      "             routing_policy_id='4HbHzS5qipU3vPomSDA',\n",
      "             routing_policy=None,\n",
      "             label='Default routing zone',\n",
      "             vrf_name='default',\n",
      "             rt_policy=None,\n",
      "             id='xRvMNwUTXYhS7KN3Oeg',\n",
      "             vlan_id=None),\n",
      " RoutingZone(sz_type='evpn',\n",
      "             vni_id=16110256,\n",
      "             route_target='16110256:1',\n",
      "             routing_policy_id='4HbHzS5qipU3vPomSDA',\n",
      "             routing_policy=None,\n",
      "             label='MyRouteZone2',\n",
      "             vrf_name='MyRouteZone2',\n",
      "             rt_policy=None,\n",
      "             id='Sx242aN6N1403C2uzrY',\n",
      "             vlan_id=256),\n",
      " RoutingZone(sz_type='evpn',\n",
      "             vni_id=None,\n",
      "             route_target=None,\n",
      "             routing_policy_id='4HbHzS5qipU3vPomSDA',\n",
      "             routing_policy=None,\n",
      "             label='MyRouteZone',\n",
      "             vrf_name='MyRouteZone',\n",
      "             rt_policy=None,\n",
      "             id='eF13XUgGv0YCMDLIUM4',\n",
      "             vlan_id=2)]\n"
     ]
    }
   ],
   "source": [
    "reponse = apstra.blueprint.routing_zones.get_all()\n",
    "pprint(reponse)"
   ]
  },
  {
   "cell_type": "markdown",
   "metadata": {},
   "source": [
    "### <a id=\"sectionC\">C: Get Nested element (with RoutePolicy)</a>"
   ]
  },
  {
   "cell_type": "code",
   "execution_count": 6,
   "metadata": {},
   "outputs": [
    {
     "name": "stdout",
     "output_type": "stream",
     "text": [
      "RoutingZone(sz_type='evpn',\n",
      "            vni_id=None,\n",
      "            route_target=None,\n",
      "            routing_policy_id='4HbHzS5qipU3vPomSDA',\n",
      "            routing_policy=RoutePolicy(export_policy=ExportPolicy(static_routes=False,\n",
      "                                                                  loopbacks=True,\n",
      "                                                                  spine_superspine_links=False,\n",
      "                                                                  l3edge_server_links=True,\n",
      "                                                                  spine_leaf_links=False,\n",
      "                                                                  l2edge_subnets=True),\n",
      "                                       description='Associated with routing '\n",
      "                                                   'zones by default, cannot '\n",
      "                                                   'be updated or deleted.',\n",
      "                                       expect_default_ipv4_route=True,\n",
      "                                       extra_export_routes=[],\n",
      "                                       aggregate_prefixes=[],\n",
      "                                       label='Default_immutable',\n",
      "                                       policy_type='default_immutable',\n",
      "                                       expect_default_ipv6_route=True,\n",
      "                                       extra_import_routes=[],\n",
      "                                       id='4HbHzS5qipU3vPomSDA',\n",
      "                                       import_policy='all'),\n",
      "            label='MyRouteZone',\n",
      "            vrf_name='MyRouteZone',\n",
      "            rt_policy=None,\n",
      "            id='eF13XUgGv0YCMDLIUM4',\n",
      "            vlan_id=2)\n"
     ]
    }
   ],
   "source": [
    "# Geting RoutingZones object with nested elements\n",
    "routing_zones = apstra.blueprint.routing_zones.get_nested('MyRouteZone')\n",
    "pprint(routing_zones)"
   ]
  },
  {
   "cell_type": "code",
   "execution_count": 7,
   "metadata": {},
   "outputs": [
    {
     "name": "stdout",
     "output_type": "stream",
     "text": [
      "RoutingZone(sz_type='evpn',\n",
      "            vni_id=None,\n",
      "            route_target=None,\n",
      "            routing_policy_id='4HbHzS5qipU3vPomSDA',\n",
      "            routing_policy=None,\n",
      "            label='MyRouteZone',\n",
      "            vrf_name='MyRouteZone',\n",
      "            rt_policy=None,\n",
      "            id='eF13XUgGv0YCMDLIUM4',\n",
      "            vlan_id=2)\n"
     ]
    }
   ],
   "source": [
    "routing_zones = apstra.blueprint.routing_zones.get('MyRouteZone')\n",
    "pprint(routing_zones)"
   ]
  },
  {
   "cell_type": "code",
   "execution_count": 9,
   "metadata": {},
   "outputs": [
    {
     "name": "stdout",
     "output_type": "stream",
     "text": [
      "RoutingZone(sz_type='evpn',\n",
      "            vni_id=None,\n",
      "            route_target=None,\n",
      "            routing_policy_id='4HbHzS5qipU3vPomSDA',\n",
      "            routing_policy=None,\n",
      "            label='MyRouteZone',\n",
      "            vrf_name='MyRouteZone',\n",
      "            rt_policy=None,\n",
      "            id='eF13XUgGv0YCMDLIUM4',\n",
      "            vlan_id=2)\n"
     ]
    }
   ],
   "source": [
    "routing_zones = apstra.blueprint.routing_zones.get_by_id('eF13XUgGv0YCMDLIUM4')\n",
    "pprint(routing_zones)"
   ]
  }
 ],
 "metadata": {
  "interpreter": {
   "hash": "916dbcbb3f70747c44a77c7bcd40155683ae19c65e1c03b4aa3499c5328201f1"
  },
  "kernelspec": {
   "display_name": "Python 3.8.10 64-bit",
   "language": "python",
   "name": "python3"
  },
  "language_info": {
   "codemirror_mode": {
    "name": "ipython",
    "version": 3
   },
   "file_extension": ".py",
   "mimetype": "text/x-python",
   "name": "python",
   "nbconvert_exporter": "python",
   "pygments_lexer": "ipython3",
   "version": "3.10.6"
  },
  "orig_nbformat": 4
 },
 "nbformat": 4,
 "nbformat_minor": 2
}
