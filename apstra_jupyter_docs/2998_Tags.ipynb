{
 "cells": [
  {
   "attachments": {},
   "cell_type": "markdown",
   "metadata": {},
   "source": [
    "# Apstra 4.1.x API Tuturial"
   ]
  },
  {
   "attachments": {},
   "cell_type": "markdown",
   "metadata": {},
   "source": [
    "## 2998 - Tags"
   ]
  },
  {
   "attachments": {},
   "cell_type": "markdown",
   "metadata": {},
   "source": []
  },
  {
   "cell_type": "code",
   "execution_count": 8,
   "metadata": {},
   "outputs": [],
   "source": [
    "# Jupyter Internal Parameters\n",
    "%reload_ext autoreload\n",
    "%autoreload 2\n",
    "\n",
    "# Fix path for library\n",
    "import os, sys, pathlib\n",
    "sys.path.insert(0, str(pathlib.Path(os.path.dirname(os.path.abspath(\"__file__\"))).parent.resolve()))\n",
    "\n",
    "# Load pprint and Apstra\n",
    "from pprint import pprint\n",
    "from apstra import Apstra"
   ]
  },
  {
   "cell_type": "code",
   "execution_count": 9,
   "metadata": {},
   "outputs": [],
   "source": [
    "lab = {'name': 'ApstraLAB', 'host': '10.10.10.8', 'username': 'admin', 'password': 'admin' }\n",
    "\n",
    "apstra = Apstra()\n",
    "apstra.client.add_aos_controller(**lab)\n",
    "apstra.client.connect('ApstraLAB')\n",
    "apstra.client.change_blueprint(\"vEX Left\")\n",
    "\n",
    "# Just cleanup before create new start\n",
    "try:\n",
    "    apstra.blueprint.tags.delete(\"MyTAG\")\n",
    "except:\n",
    "    pass"
   ]
  },
  {
   "cell_type": "code",
   "execution_count": 10,
   "metadata": {},
   "outputs": [
    {
     "name": "stdout",
     "output_type": "stream",
     "text": [
      "# Create reponse:\n",
      "{'id': 'C-aAGy3m_7eaANk88hY',\n",
      " 'task_id': 'e0aedaa3-ce0e-49e6-8fae-dcf4da82efea',\n",
      " 'task_processing_time': 0.268594,\n",
      " 'task_status': 'succeeded'}\n",
      "\n",
      "\n",
      "# Get reponse:\n",
      "Tag(id='C-aAGy3m_7eaANk88hY', description=None, label='MyTAG')\n"
     ]
    }
   ],
   "source": [
    "reponse = apstra.blueprint.tags.create('MyTAG')\n",
    "print(\"# Create reponse:\")\n",
    "pprint(reponse)\n",
    "print(\"\\n\")\n",
    "\n",
    "response = apstra.blueprint.tags.get('MyTAG')\n",
    "print(\"# Get reponse:\")\n",
    "pprint(response)\n",
    "\n",
    "# Clean\n",
    "apstra.blueprint.tags.delete(\"MyTAG\");\n"
   ]
  },
  {
   "cell_type": "code",
   "execution_count": 14,
   "metadata": {},
   "outputs": [
    {
     "name": "stdout",
     "output_type": "stream",
     "text": [
      "[Tag(id='jauFGZ1yj25XjwFp6dc', description=None, label='100Full'),\n",
      " Tag(id='B80ea_0zOn7ZWwsdofc', description=None, label='TAG1'),\n",
      " Tag(id='mnpugxdvtt-EXyBQGhg', description=None, label='TAG2'),\n",
      " Tag(id='SXPswpuYpnCbZhPK8Ks', description=None, label='TAG3')]\n"
     ]
    }
   ],
   "source": [
    "# lets create few tags\n",
    "try:\n",
    "    apstra.blueprint.tags.create('TAG1');\n",
    "    apstra.blueprint.tags.create('TAG2');\n",
    "    apstra.blueprint.tags.create('TAG3');\n",
    "except:\n",
    "    pass\n",
    "\n",
    "response = apstra.blueprint.tags.get_all()\n",
    "pprint(response)\n",
    "\n",
    "\n",
    "# Cleanup\n",
    "apstra.blueprint.tags.delete('TAG1');\n",
    "apstra.blueprint.tags.delete('TAG2');\n",
    "apstra.blueprint.tags.delete('TAG3');\n",
    "    "
   ]
  },
  {
   "cell_type": "code",
   "execution_count": 12,
   "metadata": {},
   "outputs": [],
   "source": [
    "#vn_id = apstra.blueprint.virtual_networks.search_virtual_networks(\"COCA-COLA_LAN111\").id\n",
    "#print(vn_id)\n",
    "\n",
    "#r = apstra.blueprint.relationships.create_relationship(source_id=vn_id, target_id=tag_id, type=\"tag\")\n",
    "#pprint(r)\n",
    "\n",
    "#vn = apstra.blueprint.virtual_networks.search_virtual_networks(\"COCA-COLA_LAN111\")\n",
    "#pprint(vn, indent=5)"
   ]
  }
 ],
 "metadata": {
  "interpreter": {
   "hash": "916dbcbb3f70747c44a77c7bcd40155683ae19c65e1c03b4aa3499c5328201f1"
  },
  "kernelspec": {
   "display_name": "Python 3.8.10 64-bit",
   "language": "python",
   "name": "python3"
  },
  "language_info": {
   "codemirror_mode": {
    "name": "ipython",
    "version": 3
   },
   "file_extension": ".py",
   "mimetype": "text/x-python",
   "name": "python",
   "nbconvert_exporter": "python",
   "pygments_lexer": "ipython3",
   "version": "3.10.6"
  },
  "orig_nbformat": 4
 },
 "nbformat": 4,
 "nbformat_minor": 2
}
