{
 "cells": [
  {
   "attachments": {},
   "cell_type": "markdown",
   "metadata": {},
   "source": [
    "# Apstra 4.1.x API Tuturial"
   ]
  },
  {
   "attachments": {},
   "cell_type": "markdown",
   "metadata": {},
   "source": [
    "## 2400 - Conectivity Templates\n",
    "\n",
    "* <a href=\"#sectionLIBS\">Load libs</a><br>\n",
    "* <a href=\"#sectionLOGIN\">Login to Apstra</a><br>\n",
    "\n",
    "* <a href=\"#sectionA\">A: Create CT</a><br>\n",
    "* <a href=\"#sectionB\">B: Get All</a><br>\n"
   ]
  },
  {
   "attachments": {},
   "cell_type": "markdown",
   "metadata": {},
   "source": [
    "### <a id=\"sectionLIBS\">Load Libs</a>"
   ]
  },
  {
   "cell_type": "code",
   "execution_count": 1,
   "metadata": {},
   "outputs": [],
   "source": [
    "# Jupyter Internal Parameters\n",
    "%reload_ext autoreload\n",
    "%autoreload 2\n",
    "\n",
    "# ######################################################################################\n",
    "# Just for fix path for Jupyter docs\n",
    "import os, sys, pathlib\n",
    "sys.path.insert(0, str(pathlib.Path(os.path.dirname(os.path.abspath(\"__file__\"))).parent.resolve()))\n",
    "# ######################################################################################\n",
    "from pprint import pprint\n",
    "from apstra import Apstra"
   ]
  },
  {
   "attachments": {},
   "cell_type": "markdown",
   "metadata": {},
   "source": [
    "### <a id=\"sectionLOGIN\">Login to Apstra</a>"
   ]
  },
  {
   "cell_type": "code",
   "execution_count": 22,
   "metadata": {},
   "outputs": [
    {
     "data": {
      "text/plain": [
       "ActiveBlueprint(id='5558baca-3c49-4be9-8de9-581bc89cf794', label='vEX Left', controller='ApstraLAB')"
      ]
     },
     "execution_count": 22,
     "metadata": {},
     "output_type": "execute_result"
    }
   ],
   "source": [
    "lab = {'name': 'ApstraLAB', 'host': '10.10.10.8', 'username': 'admin', 'password': 'admin' }\n",
    "\n",
    "apstra = Apstra()\n",
    "apstra.client.add_aos_controller(**lab)\n",
    "apstra.client.connect('ApstraLAB')\n",
    "apstra.client.change_blueprint(\"vEX Left\")"
   ]
  },
  {
   "attachments": {},
   "cell_type": "markdown",
   "metadata": {},
   "source": [
    "### <a id=\"sectionA\">A: Create CT</a>"
   ]
  },
  {
   "cell_type": "code",
   "execution_count": 42,
   "metadata": {},
   "outputs": [
    {
     "name": "stdout",
     "output_type": "stream",
     "text": [
      "None\n"
     ]
    }
   ],
   "source": [
    "\n",
    "ct_data = {     'name': 'MyVLAN111',\n",
    "                'template': 'virtual-network-single', \n",
    "                'untagged_vn': 'COCA-COLA_LAN111'}\n",
    "\n",
    "response = apstra.blueprint.connectivity_templates.create(ct_data)\n",
    "pprint(response)"
   ]
  },
  {
   "cell_type": "code",
   "execution_count": 43,
   "metadata": {},
   "outputs": [
    {
     "name": "stdout",
     "output_type": "stream",
     "text": [
      "ObjPolicy(id='3987487c-b841-9fc7-3182-b1ff69e25ce9',\n",
      "          label='MyVLAN111',\n",
      "          policy_type_name='batch',\n",
      "          description='',\n",
      "          subpolicies=None,\n",
      "          tags=['VNI30111'],\n",
      "          user_data='{\"isSausage\":true,\"positions\":{\"95103dee-82a4-d5fa-11b8-6a2117343a10\":[290,80,1]} '\n",
      "                    '}',\n",
      "          visible=True)\n",
      "('{\"isSausage\":true,\"positions\":{\"95103dee-82a4-d5fa-11b8-6a2117343a10\":[290,80,1]} '\n",
      " '}')\n"
     ]
    }
   ],
   "source": [
    "# Get CT Main Object\n",
    "reponse = apstra.blueprint.connectivity_templates.get(\"MyVLAN111\")\n",
    "pprint(reponse)\n",
    "pprint(reponse.user_data)"
   ]
  },
  {
   "cell_type": "code",
   "execution_count": 41,
   "metadata": {},
   "outputs": [
    {
     "name": "stdout",
     "output_type": "stream",
     "text": [
      "/api/blueprints/5558baca-3c49-4be9-8de9-581bc89cf794/endpoint-policies/a197fa5d-b681-b621-37b7-8acb18edb69c?delete_recursive=true\n",
      "HttpStatus(status_code=204, description='No Content')\n"
     ]
    }
   ],
   "source": [
    "# Delete\n",
    "reponse = apstra.blueprint.connectivity_templates.delete(\"MyVLAN111\")\n",
    "pprint(reponse)"
   ]
  },
  {
   "cell_type": "markdown",
   "metadata": {},
   "source": [
    "### <a id=\"sectionB\">B: Get All</a>"
   ]
  },
  {
   "cell_type": "code",
   "execution_count": 12,
   "metadata": {},
   "outputs": [
    {
     "name": "stdout",
     "output_type": "stream",
     "text": [
      "[ObjPolicy(id='ac04b092-83e4-2967-7d3b-615f73ca8cd6',\n",
      "           label='Virtual Network (Single)',\n",
      "           policy_type_name='AttachSingleVLAN',\n",
      "           description='Add a single VLAN to interfaces, as tagged or '\n",
      "                       'untagged.',\n",
      "           subpolicies=None,\n",
      "           tags=[],\n",
      "           user_data=None,\n",
      "           visible=False),\n",
      " ObjPolicy(id='9d79b7d3-74c1-4fb5-8240-2918a650a1f0',\n",
      "           label='IP Link (pipeline)',\n",
      "           policy_type_name='pipeline',\n",
      "           description='Build an IP link between a fabric node and a generic '\n",
      "                       'system. This primitive uses AOS resource pool \"Link '\n",
      "                       'IPs - To Generic\" by default to dynamically allocate '\n",
      "                       'an IP endpoint (/31) on each side of the link. To '\n",
      "                       'allocate different IP endpoints, navigate under '\n",
      "                       'Routing Zone>Subinterfaces Table.',\n",
      "           subpolicies=None,\n",
      "           tags=[],\n",
      "           user_data=None,\n",
      "           visible=False),\n",
      " ObjPolicy(id='7ef9dc4b-eca3-0cc0-69fd-d2a57a7e4a57',\n",
      "           label='Virtual Network (Single) (pipeline)',\n",
      "           policy_type_name='pipeline',\n",
      "           description='Add a single VLAN to interfaces, as tagged or '\n",
      "                       'untagged.',\n",
      "           subpolicies=None,\n",
      "           tags=[],\n",
      "           user_data=None,\n",
      "           visible=False),\n",
      " ObjPolicy(id='074b0337-e9d7-4ec5-9b0a-9650a9e1a69b',\n",
      "           label='Routing Policy',\n",
      "           policy_type_name='AttachExistingRoutingPolicy',\n",
      "           description='Allocate routing policy to specific BGP sessions.',\n",
      "           subpolicies=None,\n",
      "           tags=[],\n",
      "           user_data=None,\n",
      "           visible=False),\n",
      " ObjPolicy(id='c9e50e8b-4b7e-9374-256d-2469d192cf84',\n",
      "           label='Virtual Network (Multiple) (pipeline)',\n",
      "           policy_type_name='pipeline',\n",
      "           description='Add a list of VLANs to interfaces, as tagged or '\n",
      "                       'untagged.',\n",
      "           subpolicies=None,\n",
      "           tags=[],\n",
      "           user_data=None,\n",
      "           visible=False),\n",
      " ObjPolicy(id='d76d685b-88d1-b289-163a-79dd3184c51e',\n",
      "           label='LAN114-Tagged',\n",
      "           policy_type_name='batch',\n",
      "           description='',\n",
      "           subpolicies=None,\n",
      "           tags=['VNI30112', 'VNI30114', 'VNI30115'],\n",
      "           user_data='{\"isSausage\":true,\"positions\":{\"0db772ac-60ad-6e37-1a40-0dc7c379af57\":[290,80,1]} '\n",
      "                     '}',\n",
      "           visible=True),\n",
      " ObjPolicy(id='cbede3a8-4365-44d5-93d4-110ce2c31db5',\n",
      "           label='Routing Policy (pipeline)',\n",
      "           policy_type_name='pipeline',\n",
      "           description='Allocate routing policy to specific BGP sessions.',\n",
      "           subpolicies=None,\n",
      "           tags=[],\n",
      "           user_data=None,\n",
      "           visible=False),\n",
      " ObjPolicy(id='a6536506-69aa-8ce9-fdaa-429ba7a6e657',\n",
      "           label='Virtual Network (Single) (pipeline)',\n",
      "           policy_type_name='pipeline',\n",
      "           description='Add a single VLAN to interfaces, as tagged or '\n",
      "                       'untagged.',\n",
      "           subpolicies=None,\n",
      "           tags=[],\n",
      "           user_data=None,\n",
      "           visible=False),\n",
      " ObjPolicy(id='2830d60d-8447-adbd-64c6-39dc4ddbbe58',\n",
      "           label='Virtual Network (Single) (pipeline)',\n",
      "           policy_type_name='pipeline',\n",
      "           description='Add a single VLAN to interfaces, as tagged or '\n",
      "                       'untagged.',\n",
      "           subpolicies=None,\n",
      "           tags=[],\n",
      "           user_data=None,\n",
      "           visible=False),\n",
      " ObjPolicy(id='b130e5b4-ed72-4dc1-91ae-e0e2bec50a5b',\n",
      "           label='Underlay-External',\n",
      "           policy_type_name='batch',\n",
      "           description='',\n",
      "           subpolicies=None,\n",
      "           tags=[],\n",
      "           user_data='{\"isSausage\":true,\"positions\":{\"433c2356-d89e-4fe9-af2c-8dbfcbc5d885\":[290,80,1],\"001956b2-d06f-469a-b4f9-c41ed8ffd2e0\":[290,150,2],\"074b0337-e9d7-4ec5-9b0a-9650a9e1a69b\":[290,220,3]}}',\n",
      "           visible=True),\n",
      " ObjPolicy(id='001956b2-d06f-469a-b4f9-c41ed8ffd2e0',\n",
      "           label='BGP Peering (Generic System)',\n",
      "           policy_type_name='AttachBgpOverSubinterfacesOrSvi',\n",
      "           description='Create a BGP peering session with Generic Systems '\n",
      "                       'inherited from AOS Generic System properties such as '\n",
      "                       'loopback and ASN (addressed, or link-local peer).',\n",
      "           subpolicies=None,\n",
      "           tags=[],\n",
      "           user_data=None,\n",
      "           visible=False),\n",
      " ObjPolicy(id='2c61a543-63a3-486e-8f38-b2b0eccd85f1',\n",
      "           label='BGP Peering (Generic System) (pipeline)',\n",
      "           policy_type_name='pipeline',\n",
      "           description='Create a BGP peering session with Generic Systems '\n",
      "                       'inherited from AOS Generic System properties such as '\n",
      "                       'loopback and ASN (addressed, or link-local peer).',\n",
      "           subpolicies=None,\n",
      "           tags=[],\n",
      "           user_data=None,\n",
      "           visible=False),\n",
      " ObjPolicy(id='433c2356-d89e-4fe9-af2c-8dbfcbc5d885',\n",
      "           label='IP Link',\n",
      "           policy_type_name='AttachLogicalLink',\n",
      "           description='Build an IP link between a fabric node and a generic '\n",
      "                       'system. This primitive uses AOS resource pool \"Link '\n",
      "                       'IPs - To Generic\" by default to dynamically allocate '\n",
      "                       'an IP endpoint (/31) on each side of the link. To '\n",
      "                       'allocate different IP endpoints, navigate under '\n",
      "                       'Routing Zone>Subinterfaces Table.',\n",
      "           subpolicies=None,\n",
      "           tags=[],\n",
      "           user_data=None,\n",
      "           visible=False),\n",
      " ObjPolicy(id='ae367d80-e1e8-4668-d927-e2ed28bdaa7b',\n",
      "           label='LAN113-Untaged',\n",
      "           policy_type_name='batch',\n",
      "           description='TestDescription123',\n",
      "           subpolicies=None,\n",
      "           tags=['ABCTAG', 'VNI30113', 'VNI30114'],\n",
      "           user_data='{\"isSausage\":true,\"positions\":{\"f504e23c-fb98-5717-52ae-be500cd29925\":[290,80,1]} '\n",
      "                     '}',\n",
      "           visible=True),\n",
      " ObjPolicy(id='d54c421b-b252-074c-1448-08556db820d1',\n",
      "           label='Virtual Network (Single)',\n",
      "           policy_type_name='AttachSingleVLAN',\n",
      "           description='Add a single VLAN to interfaces, as tagged or '\n",
      "                       'untagged.',\n",
      "           subpolicies=None,\n",
      "           tags=[],\n",
      "           user_data=None,\n",
      "           visible=False),\n",
      " ObjPolicy(id='e99b67e1-6b7c-0531-30d4-e9f4be72edad',\n",
      "           label='LAN111-Untaged',\n",
      "           policy_type_name='batch',\n",
      "           description='',\n",
      "           subpolicies=None,\n",
      "           tags=['VNI30111'],\n",
      "           user_data='{\"isSausage\":true,\"positions\":{\"71e1cf03-2570-d2b1-d51f-50d735bd7936\":[290,80,1]} '\n",
      "                     '}',\n",
      "           visible=True),\n",
      " ObjPolicy(id='d836ff18-bdeb-1d32-3573-4889abf5bb06',\n",
      "           label='Virtual Network (Multiple) (pipeline)',\n",
      "           policy_type_name='pipeline',\n",
      "           description='Add a list of VLANs to interfaces, as tagged or '\n",
      "                       'untagged.',\n",
      "           subpolicies=None,\n",
      "           tags=[],\n",
      "           user_data=None,\n",
      "           visible=False),\n",
      " ObjPolicy(id='f504e23c-fb98-5717-52ae-be500cd29925',\n",
      "           label='Virtual Network (Multiple)',\n",
      "           policy_type_name='AttachMultipleVLAN',\n",
      "           description='Add a list of VLANs to interfaces, as tagged or '\n",
      "                       'untagged.',\n",
      "           subpolicies=None,\n",
      "           tags=[],\n",
      "           user_data=None,\n",
      "           visible=False),\n",
      " ObjPolicy(id='71e1cf03-2570-d2b1-d51f-50d735bd7936',\n",
      "           label='Virtual Network (Single)',\n",
      "           policy_type_name='AttachSingleVLAN',\n",
      "           description='Add a single VLAN to interfaces, as tagged or '\n",
      "                       'untagged.',\n",
      "           subpolicies=None,\n",
      "           tags=[],\n",
      "           user_data=None,\n",
      "           visible=False),\n",
      " ObjPolicy(id='07b9a162-bcc0-4601-a4cb-f24c6a4512e6',\n",
      "           label='IP Link (batch)',\n",
      "           policy_type_name='batch',\n",
      "           description='Build an IP link between a fabric node and a generic '\n",
      "                       'system. This primitive uses AOS resource pool \"Link '\n",
      "                       'IPs - To Generic\" by default to dynamically allocate '\n",
      "                       'an IP endpoint (/31) on each side of the link. To '\n",
      "                       'allocate different IP endpoints, navigate under '\n",
      "                       'Routing Zone>Subinterfaces Table.',\n",
      "           subpolicies=None,\n",
      "           tags=[],\n",
      "           user_data=None,\n",
      "           visible=False),\n",
      " ObjPolicy(id='841097c2-7727-4cbe-8686-f3bb3b7dfcd2',\n",
      "           label='BGP Peering (Generic System) (batch)',\n",
      "           policy_type_name='batch',\n",
      "           description='Create a BGP peering session with Generic Systems '\n",
      "                       'inherited from AOS Generic System properties such as '\n",
      "                       'loopback and ASN (addressed, or link-local peer).',\n",
      "           subpolicies=None,\n",
      "           tags=[],\n",
      "           user_data=None,\n",
      "           visible=False),\n",
      " ObjPolicy(id='e4f74d08-7907-4ad5-12b3-a15be5d5f25b',\n",
      "           label='LAN112-Tagged',\n",
      "           policy_type_name='batch',\n",
      "           description='',\n",
      "           subpolicies=None,\n",
      "           tags=['VNI30112'],\n",
      "           user_data='{\"isSausage\":true,\"positions\":{\"ac04b092-83e4-2967-7d3b-615f73ca8cd6\":[290,80,1]} '\n",
      "                     '}',\n",
      "           visible=True),\n",
      " ObjPolicy(id='d7a71cf6-c94e-5847-202d-29427c305355',\n",
      "           label='MyVLAN111',\n",
      "           policy_type_name='batch',\n",
      "           description='',\n",
      "           subpolicies=None,\n",
      "           tags=['VNI30111'],\n",
      "           user_data='{\"isSausage\":true,\"positions\":{\"d54c421b-b252-074c-1448-08556db820d1\":[290,80,1]} '\n",
      "                     '}',\n",
      "           visible=True),\n",
      " ObjPolicy(id='0db772ac-60ad-6e37-1a40-0dc7c379af57',\n",
      "           label='Virtual Network (Multiple)',\n",
      "           policy_type_name='AttachMultipleVLAN',\n",
      "           description='Add a list of VLANs to interfaces, as tagged or '\n",
      "                       'untagged.',\n",
      "           subpolicies=None,\n",
      "           tags=[],\n",
      "           user_data=None,\n",
      "           visible=False)]\n"
     ]
    }
   ],
   "source": [
    "reponse = apstra.blueprint.connectivity_templates.get_all()\n",
    "pprint(reponse)"
   ]
  }
 ],
 "metadata": {
  "interpreter": {
   "hash": "916dbcbb3f70747c44a77c7bcd40155683ae19c65e1c03b4aa3499c5328201f1"
  },
  "kernelspec": {
   "display_name": "Python 3.8.10 64-bit",
   "language": "python",
   "name": "python3"
  },
  "language_info": {
   "codemirror_mode": {
    "name": "ipython",
    "version": 3
   },
   "file_extension": ".py",
   "mimetype": "text/x-python",
   "name": "python",
   "nbconvert_exporter": "python",
   "pygments_lexer": "ipython3",
   "version": "3.10.6"
  },
  "orig_nbformat": 4
 },
 "nbformat": 4,
 "nbformat_minor": 2
}
