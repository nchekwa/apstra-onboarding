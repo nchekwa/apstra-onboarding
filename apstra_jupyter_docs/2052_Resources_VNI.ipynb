{
 "cells": [
  {
   "attachments": {},
   "cell_type": "markdown",
   "metadata": {},
   "source": [
    "# Apstra 4.1.x API Tuturial"
   ]
  },
  {
   "attachments": {},
   "cell_type": "markdown",
   "metadata": {},
   "source": [
    "## 2052 - Resources IPv4<br>\n",
    "\n",
    "* <a href=\"#sectionLIBS\">Load libs</a><br>\n",
    "* <a href=\"#sectionLOGIN\">Login to Apstra</a><br>\n",
    "\n",
    "* <a href=\"#sectionA\">A: Create and delete VNI Pool</a><br>\n",
    "* <a href=\"#sectionB\">B: Get All</a><br>\n",
    "* <a href=\"#sectionC\">C: Get single element</a><br>\n"
   ]
  },
  {
   "attachments": {},
   "cell_type": "markdown",
   "metadata": {},
   "source": [
    "### <a id=\"sectionLIBS\">Load Libs</a>"
   ]
  },
  {
   "cell_type": "code",
   "execution_count": 1,
   "metadata": {},
   "outputs": [],
   "source": [
    "# Jupyter Internal Parameters\n",
    "%reload_ext autoreload\n",
    "%autoreload 2\n",
    "\n",
    "# Fix path for library\n",
    "import os, sys, pathlib\n",
    "sys.path.insert(0, str(pathlib.Path(os.path.dirname(os.path.abspath(\"__file__\"))).parent.resolve()))\n",
    "\n",
    "# Load pprint and Apstra\n",
    "from pprint import pprint\n",
    "from apstra import Apstra"
   ]
  },
  {
   "attachments": {},
   "cell_type": "markdown",
   "metadata": {},
   "source": [
    "### <a id=\"sectionLOGIN\">Login to Apstra</a>"
   ]
  },
  {
   "cell_type": "code",
   "execution_count": 2,
   "metadata": {},
   "outputs": [
    {
     "name": "stdout",
     "output_type": "stream",
     "text": [
      "Parameters(id=None,\n",
      "           active_bp=ActiveBlueprint(id='5558baca-3c49-4be9-8de9-581bc89cf794',\n",
      "                                     label='vEX Left',\n",
      "                                     controller='ApstraLAB'),\n",
      "           active_controller='ApstraLAB',\n",
      "           bp_cache={'vEX Left': ActiveBlueprint(id='5558baca-3c49-4be9-8de9-581bc89cf794',\n",
      "                                                 label='vEX Left',\n",
      "                                                 controller='ApstraLAB')},\n",
      "           systems={},\n",
      "           current_dir='/mnt/github/apstra-onboarding/apstra_jupyter_docs',\n",
      "           config={'aos': {'ApstraLAB': {'host': '10.10.10.8',\n",
      "                                         'password': 'admin',\n",
      "                                         'username': 'admin'}}},\n",
      "           sync={},\n",
      "           log=Log(path=None, file_path=None))\n"
     ]
    }
   ],
   "source": [
    "\n",
    "lab = {'name': 'ApstraLAB', 'host': '10.10.10.8', 'username': 'admin', 'password': 'admin' }\n",
    "\n",
    "apstra = Apstra()\n",
    "apstra.client.add_aos_controller(**lab)\n",
    "apstra.client.connect('ApstraLAB')\n",
    "apstra.client.change_blueprint(\"vEX Left\")\n",
    "\n",
    "# Just cleanup before create new start\n",
    "try:\n",
    "    apstra.resources.vni_pools.delete(\"IPv4_Pool_Example\")\n",
    "except:\n",
    "    pass"
   ]
  },
  {
   "attachments": {},
   "cell_type": "markdown",
   "metadata": {},
   "source": [
    "### <a id=\"sectionA\">A: Create and delete VNI Pool</a>"
   ]
  },
  {
   "cell_type": "code",
   "execution_count": 3,
   "metadata": {},
   "outputs": [
    {
     "name": "stdout",
     "output_type": "stream",
     "text": [
      "# Create reponse:\n",
      "ID(id='c2df54ae-c6a1-5cb2-e872-70aa24ac1eb2')\n",
      "\n",
      "\n",
      "# Delete reponse:\n",
      "HttpStatus(status_code=202, description='Accepted')\n"
     ]
    }
   ],
   "source": [
    "\n",
    "name = \"VNI_Pool_Example\"\n",
    "pools = [\"10008-100010\", \"100022 to 100033\", \"100030 - 100045\"]\n",
    "\n",
    "response = apstra.resources.vni_pools.create(name, pools)\n",
    "print(\"# Create reponse:\")\n",
    "pprint(response)\n",
    "print(\"\\n\")\n",
    "\n",
    "response = apstra.resources.vni_pools.delete(name)\n",
    "print(\"# Delete reponse:\")\n",
    "pprint(response)"
   ]
  },
  {
   "attachments": {},
   "cell_type": "markdown",
   "metadata": {},
   "source": [
    "### <a id=\"sectionB\">B: Get All</a>"
   ]
  },
  {
   "cell_type": "code",
   "execution_count": 4,
   "metadata": {},
   "outputs": [
    {
     "data": {
      "text/plain": [
       "[VniPool(status='not_in_use', used='0', display_name='DC1', tags=['DC1'], created_at='2022-01-21T22:17:23.917673Z', last_modified_at='2022-01-21T22:17:23.917673Z', ranges=[PoolRange(status='pool_element_available', used='0', last=19999, used_percentage=0.0, total='10000', first=10000)], used_percentage=0.0, total='10000', id='vni_dc1'),\n",
       " VniPool(status='not_in_use', used='0', display_name='DEMO1-VNI-pools2', tags=[], created_at='2023-04-06T21:02:53.862450Z', last_modified_at='2023-04-06T21:02:53.862450Z', ranges=[PoolRange(status='pool_element_available', used='0', last=5097, used_percentage=0.0, total='1002', first=4096), PoolRange(status='pool_element_available', used='0', last=10010, used_percentage=0.0, total='11', first=10000)], used_percentage=0.0, total='1013', id='DEMO1-VNI-pools2'),\n",
       " VniPool(status='not_in_use', used='0', display_name='Default-10000-20000', tags=['default'], created_at='2021-12-10T01:39:13.718586Z', last_modified_at='2021-12-10T01:39:13.718586Z', ranges=[PoolRange(status='pool_element_available', used='0', last=20000, used_percentage=0.0, total='10001', first=10000)], used_percentage=0.0, total='10001', id='Default-10000-20000'),\n",
       " VniPool(status='not_in_use', used='0', display_name='DEMO1-VNI-pools', tags=[], created_at='2023-03-16T02:36:55.310385Z', last_modified_at='2023-03-16T02:36:55.310385Z', ranges=[PoolRange(status='pool_element_available', used='0', last=5097, used_percentage=0.0, total='1002', first=4096), PoolRange(status='pool_element_available', used='0', last=10010, used_percentage=0.0, total='11', first=10000)], used_percentage=0.0, total='1013', id='DEMO1-VNI-pools'),\n",
       " VniPool(status='not_in_use', used='0', display_name='DC1-EVPN_L3_VNIs', tags=[], created_at='2022-06-26T23:22:08.129949Z', last_modified_at='2022-06-26T23:22:08.129949Z', ranges=[PoolRange(status='pool_element_available', used='0', last=19999, used_percentage=0.0, total='10000', first=10000)], used_percentage=0.0, total='10000', id='8b340b8d-320f-480b-b86a-c573a2eefec3'),\n",
       " VniPool(status='not_in_use', used='0', display_name='DC1_EVPN_L3_VNIs', tags=[], created_at='2022-06-24T23:57:56.967123Z', last_modified_at='2022-06-24T23:57:56.967123Z', ranges=[PoolRange(status='pool_element_available', used='0', last=19999, used_percentage=0.0, total='10000', first=10000)], used_percentage=0.0, total='10000', id='0ef33e85-8e7a-44fa-9252-150e92106b59'),\n",
       " VniPool(status='not_in_use', used='0', display_name='vEX DC-EVPN_L3_VNIs', tags=[], created_at='2022-09-28T23:14:35.910219Z', last_modified_at='2022-09-28T23:14:35.910219Z', ranges=[PoolRange(status='pool_element_available', used='0', last=16777000, used_percentage=0.0, total='777001', first=16000000)], used_percentage=0.0, total='777001', id='6f63ec43-8305-4e95-a9aa-c18361a78142'),\n",
       " VniPool(status='not_in_use', used='0', display_name='NL-DEMO1-VNI-pools', tags=[], created_at='2023-04-21T15:40:14.046752Z', last_modified_at='2023-04-21T15:40:14.046752Z', ranges=[PoolRange(status='pool_element_available', used='0', last=5097, used_percentage=0.0, total='1002', first=4096), PoolRange(status='pool_element_available', used='0', last=10010, used_percentage=0.0, total='11', first=10000)], used_percentage=0.0, total='1013', id='4f145b6b-181e-446a-3174-8a8e03c18e3f')]"
      ]
     },
     "execution_count": 4,
     "metadata": {},
     "output_type": "execute_result"
    }
   ],
   "source": [
    "apstra.resources.vni_pools.get_all()"
   ]
  },
  {
   "attachments": {},
   "cell_type": "markdown",
   "metadata": {},
   "source": [
    "### <a id=\"sectionC\">C: Get single element</a>"
   ]
  },
  {
   "cell_type": "code",
   "execution_count": 5,
   "metadata": {},
   "outputs": [
    {
     "name": "stdout",
     "output_type": "stream",
     "text": [
      "VniPool(status='not_in_use',\n",
      "        used='0',\n",
      "        display_name='DEMO1-VNI-pools',\n",
      "        tags=[],\n",
      "        created_at='2023-03-16T02:36:55.310385Z',\n",
      "        last_modified_at='2023-03-16T02:36:55.310385Z',\n",
      "        ranges=[PoolRange(status='pool_element_available',\n",
      "                          used='0',\n",
      "                          last=5097,\n",
      "                          used_percentage=0.0,\n",
      "                          total='1002',\n",
      "                          first=4096),\n",
      "                PoolRange(status='pool_element_available',\n",
      "                          used='0',\n",
      "                          last=10010,\n",
      "                          used_percentage=0.0,\n",
      "                          total='11',\n",
      "                          first=10000)],\n",
      "        used_percentage=0.0,\n",
      "        total='1013',\n",
      "        id='DEMO1-VNI-pools')\n"
     ]
    }
   ],
   "source": [
    "# By name (display_name)\n",
    "reponse = apstra.resources.vni_pools.get(\"DEMO1-VNI-pools\")\n",
    "pprint(reponse)"
   ]
  },
  {
   "cell_type": "code",
   "execution_count": 6,
   "metadata": {},
   "outputs": [
    {
     "name": "stdout",
     "output_type": "stream",
     "text": [
      "VniPool(status='not_in_use',\n",
      "        used='0',\n",
      "        display_name='DC1-EVPN_L3_VNIs',\n",
      "        tags=[],\n",
      "        created_at='2022-06-26T23:22:08.129949Z',\n",
      "        last_modified_at='2022-06-26T23:22:08.129949Z',\n",
      "        ranges=[PoolRange(status='pool_element_available',\n",
      "                          used='0',\n",
      "                          last=19999,\n",
      "                          used_percentage=0.0,\n",
      "                          total='10000',\n",
      "                          first=10000)],\n",
      "        used_percentage=0.0,\n",
      "        total='10000',\n",
      "        id='8b340b8d-320f-480b-b86a-c573a2eefec3')\n"
     ]
    }
   ],
   "source": [
    "# By id\n",
    "reponse = apstra.resources.vni_pools.get_by_id(\"8b340b8d-320f-480b-b86a-c573a2eefec3\")\n",
    "pprint(reponse)"
   ]
  }
 ],
 "metadata": {
  "interpreter": {
   "hash": "916dbcbb3f70747c44a77c7bcd40155683ae19c65e1c03b4aa3499c5328201f1"
  },
  "kernelspec": {
   "display_name": "Python 3.8.10 64-bit",
   "language": "python",
   "name": "python3"
  },
  "language_info": {
   "codemirror_mode": {
    "name": "ipython",
    "version": 3
   },
   "file_extension": ".py",
   "mimetype": "text/x-python",
   "name": "python",
   "nbconvert_exporter": "python",
   "pygments_lexer": "ipython3",
   "version": "3.10.6"
  },
  "orig_nbformat": 4
 },
 "nbformat": 4,
 "nbformat_minor": 2
}
