{
 "cells": [
  {
   "attachments": {},
   "cell_type": "markdown",
   "metadata": {},
   "source": [
    "# Apstra 4.1.x API Tuturial"
   ]
  },
  {
   "attachments": {},
   "cell_type": "markdown",
   "metadata": {},
   "source": []
  },
  {
   "cell_type": "code",
   "execution_count": 37,
   "metadata": {},
   "outputs": [
    {
     "ename": "TypeError",
     "evalue": "resolver() missing 1 required positional argument: 'uri'",
     "output_type": "error",
     "traceback": [
      "\u001b[0;31m---------------------------------------------------------------------------\u001b[0m",
      "\u001b[0;31mTypeError\u001b[0m                                 Traceback (most recent call last)",
      "Cell \u001b[0;32mIn[37], line 34\u001b[0m\n\u001b[1;32m     31\u001b[0m         \u001b[39mreturn\u001b[39;00m json\u001b[39m.\u001b[39mload(f)\n\u001b[1;32m     33\u001b[0m \u001b[39m# Resolve any $ref fields in the schema file\u001b[39;00m\n\u001b[0;32m---> 34\u001b[0m schema \u001b[39m=\u001b[39m jsonschema\u001b[39m.\u001b[39mRefResolver(base_uri\u001b[39m=\u001b[39m\u001b[39m'\u001b[39m\u001b[39mfile://\u001b[39m\u001b[39m'\u001b[39m \u001b[39m+\u001b[39m os\u001b[39m.\u001b[39mpath\u001b[39m.\u001b[39mabspath(\u001b[39m'\u001b[39m\u001b[39mschemas/schema.json\u001b[39m\u001b[39m'\u001b[39m)\u001b[39m.\u001b[39mreplace(\u001b[39m'\u001b[39m\u001b[39m\\\\\u001b[39;00m\u001b[39m'\u001b[39m, \u001b[39m'\u001b[39m\u001b[39m/\u001b[39m\u001b[39m'\u001b[39m), referrer\u001b[39m=\u001b[39mschema_data, handlers\u001b[39m=\u001b[39m{\u001b[39m'\u001b[39m\u001b[39m'\u001b[39m: resolver()})\u001b[39m.\u001b[39mresolve()\n\u001b[1;32m     35\u001b[0m \u001b[39mprint\u001b[39m(schema)\n\u001b[1;32m     36\u001b[0m \u001b[39m# Validate the YAML data against the schema\u001b[39;00m\n",
      "\u001b[0;31mTypeError\u001b[0m: resolver() missing 1 required positional argument: 'uri'"
     ]
    }
   ],
   "source": [
    "# Jupyter Internal Parameters\n",
    "%reload_ext autoreload\n",
    "%autoreload 2\n",
    "\n",
    "\n",
    "from IPython.core.interactiveshell import InteractiveShell\n",
    "InteractiveShell.ast_node_interactivity = 'all'\n",
    "\n",
    "# ######################################################################################\n",
    "import os, sys, pathlib\n",
    "import yaml, json\n",
    "import jsonschema\n",
    "from jsonschema import validate\n",
    "dir_path = str(pathlib.Path(os.path.dirname(os.path.abspath(\"__file__\"))).parent.resolve())\n",
    "\n",
    "# Load the YAML file\n",
    "with open(f'{dir_path}/configs/Example.yaml', 'r') as f:\n",
    "    yaml_data = yaml.safe_load(f)\n",
    "\n",
    "\n",
    "# Load the JSON Schema file\n",
    "with open(f'{dir_path}/schemas/schema.json', 'r') as f:\n",
    "    schema_data = json.load(f)\n",
    "    \n",
    "# Define the resolver to resolve any $ref fields\n",
    "def resolver(uri):\n",
    "    # Get the filename from the URI\n",
    "    filename = uri.split(\"/\")[-1]\n",
    "    # Load the referenced file\n",
    "    with open(f'schemas/{filename}', 'r') as f:\n",
    "        return json.load(f)\n",
    "\n",
    "# Resolve any $ref fields in the schema file\n",
    "schema = jsonschema.RefResolver(base_uri='file://' + os.path.abspath('schemas/schema.json').replace('\\\\', '/'), referrer=schema_data, handlers={'': resolver()}).resolve()\n",
    "print(schema)\n",
    "# Validate the YAML data against the schema\n",
    "try:\n",
    "    jsonschema.validate(yaml_data, schema)\n",
    "    print('Validation succeeded!')\n",
    "except jsonschema.exceptions.ValidationError as e:\n",
    "    print('Validation failed:', e)\n"
   ]
  },
  {
   "cell_type": "code",
   "execution_count": null,
   "metadata": {},
   "outputs": [
    {
     "ename": "TypeError",
     "evalue": "resolver() missing 1 required positional argument: 'uri'",
     "output_type": "error",
     "traceback": [
      "\u001b[0;31m---------------------------------------------------------------------------\u001b[0m\n",
      "\u001b[0;31mTypeError\u001b[0m                                 Traceback (most recent call last)\n",
      "Cell \u001b[0;32mIn[37], line 34\u001b[0m\n",
      "\u001b[1;32m     31\u001b[0m         \u001b[39mreturn\u001b[39;00m json\u001b[39m.\u001b[39mload(f)\n",
      "\u001b[1;32m     33\u001b[0m \u001b[39m# Resolve any $ref fields in the schema file\u001b[39;00m\n",
      "\u001b[0;32m---> 34\u001b[0m schema \u001b[39m=\u001b[39m jsonschema\u001b[39m.\u001b[39mRefResolver(base_uri\u001b[39m=\u001b[39m\u001b[39m'\u001b[39m\u001b[39mfile://\u001b[39m\u001b[39m'\u001b[39m \u001b[39m+\u001b[39m os\u001b[39m.\u001b[39mpath\u001b[39m.\u001b[39mabspath(\u001b[39m'\u001b[39m\u001b[39mschemas/schema.json\u001b[39m\u001b[39m'\u001b[39m)\u001b[39m.\u001b[39mreplace(\u001b[39m'\u001b[39m\u001b[39m\\\\\u001b[39;00m\u001b[39m'\u001b[39m, \u001b[39m'\u001b[39m\u001b[39m/\u001b[39m\u001b[39m'\u001b[39m), referrer\u001b[39m=\u001b[39mschema_data, handlers\u001b[39m=\u001b[39m{\u001b[39m'\u001b[39m\u001b[39m'\u001b[39m: resolver()})\u001b[39m.\u001b[39mresolve()\n",
      "\u001b[1;32m     35\u001b[0m \u001b[39mprint\u001b[39m(schema)\n",
      "\u001b[1;32m     36\u001b[0m \u001b[39m# Validate the YAML data against the schema\u001b[39;00m\n",
      "\n",
      "\u001b[0;31mTypeError\u001b[0m: resolver() missing 1 required positional argument: 'uri'"
     ]
    }
   ],
   "source": [
    "# Jupyter Internal Parameters\n",
    "%reload_ext autoreload\n",
    "%autoreload 2\n",
    "\n",
    "\n",
    "from IPython.core.interactiveshell import InteractiveShell\n",
    "InteractiveShell.ast_node_interactivity = 'all'\n",
    "\n",
    "# ######################################################################################\n",
    "import os, sys, pathlib\n",
    "import yaml, json\n",
    "import jsonschema\n",
    "from jsonschema import validate\n",
    "dir_path = str(pathlib.Path(os.path.dirname(os.path.abspath(\"__file__\"))).parent.resolve())\n",
    "\n",
    "# Load the YAML file\n",
    "with open(f'{dir_path}/configs/Example.yaml', 'r') as f:\n",
    "    yaml_data = yaml.safe_load(f)\n",
    "\n",
    "\n",
    "# Load the JSON Schema file\n",
    "with open(f'{dir_path}/schemas/schema.json', 'r') as f:\n",
    "    schema_data = json.load(f)\n",
    "    \n",
    "# Define the resolver to resolve any $ref fields\n",
    "def resolver(uri):\n",
    "    # Get the filename from the URI\n",
    "    filename = uri.split(\"/\")[-1]\n",
    "    # Load the referenced file\n",
    "    with open(f'schemas/{filename}', 'r') as f:\n",
    "        return json.load(f)\n",
    "\n",
    "# Resolve any $ref fields in the schema file\n",
    "schema = jsonschema.RefResolver(base_uri='file://' + os.path.abspath('schemas/schema.json').replace('\\\\', '/'), referrer=schema_data, handlers={'': resolver()}).resolve()\n",
    "print(schema)\n",
    "# Validate the YAML data against the schema\n",
    "try:\n",
    "    jsonschema.validate(yaml_data, schema)\n",
    "    print('Validation succeeded!')\n",
    "except jsonschema.exceptions.ValidationError as e:\n",
    "    print('Validation failed:', e)\n"
   ]
  }
 ],
 "metadata": {
  "interpreter": {
   "hash": "916dbcbb3f70747c44a77c7bcd40155683ae19c65e1c03b4aa3499c5328201f1"
  },
  "kernelspec": {
   "display_name": "Python 3.8.10 64-bit",
   "language": "python",
   "name": "python3"
  },
  "language_info": {
   "codemirror_mode": {
    "name": "ipython",
    "version": 3
   },
   "file_extension": ".py",
   "mimetype": "text/x-python",
   "name": "python",
   "nbconvert_exporter": "python",
   "pygments_lexer": "ipython3",
   "version": "3.10.6"
  },
  "orig_nbformat": 4
 },
 "nbformat": 4,
 "nbformat_minor": 2
}
